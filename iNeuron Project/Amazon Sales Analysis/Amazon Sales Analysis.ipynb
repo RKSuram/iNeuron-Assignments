{
 "cells": [
  {
   "cell_type": "markdown",
   "id": "8c678dc1",
   "metadata": {},
   "source": [
    "\n",
    "Problem Statement:\n",
    "Sales management has gained importance to meet increasing competition and the need\n",
    "for improved methods of distribution to reduce cost and to increase profits. Sales\n",
    "management today is the most important function in a commercial and business\n",
    "enterprise.\n",
    "\n",
    "Do ETL : Extract-Transform-Load some Amazon dataset and find for me\n",
    "Sales-trend -> month wise , year wise , yearly_month wise\n",
    "\n",
    "Find key metrics and factors and show the meaningful relationships between attributes.\n",
    "\n",
    "Do your own research and come up with your findings"
   ]
  },
  {
   "cell_type": "code",
   "execution_count": null,
   "id": "258d38bd",
   "metadata": {},
   "outputs": [],
   "source": [
    "# importing required libraries\n",
    "\n",
    "import numpy as np\n",
    "import pandas as pd\n",
    "import seaborn as sns\n",
    "%matplotlib inline\n",
    "import matplotlib.pyplot as plt\n",
    "from datetime import datetime"
   ]
  },
  {
   "cell_type": "code",
   "execution_count": null,
   "id": "77b1e34c",
   "metadata": {},
   "outputs": [],
   "source": [
    "# importing data from the file location\n",
    "\n",
    "df = pd.read_csv(r\"G:\\RAVI\\I_Neuron\\iNeuron Project\\Amazon Project\\Amazon Sales Records.csv\")\n",
    "df.head()"
   ]
  },
  {
   "cell_type": "code",
   "execution_count": null,
   "id": "6cf4cb2d",
   "metadata": {},
   "outputs": [],
   "source": [
    "# to see the dimensions of the data\n",
    "\n",
    "df.shape"
   ]
  },
  {
   "cell_type": "code",
   "execution_count": null,
   "id": "0ceaf9e4",
   "metadata": {},
   "outputs": [],
   "source": [
    "# checking for null values in the data\n",
    "\n",
    "df.isnull().sum()"
   ]
  },
  {
   "cell_type": "code",
   "execution_count": null,
   "id": "2ed6cd72",
   "metadata": {},
   "outputs": [],
   "source": [
    "# to check datatype of columns\n",
    "\n",
    "df.info()"
   ]
  },
  {
   "cell_type": "code",
   "execution_count": null,
   "id": "aad76894",
   "metadata": {},
   "outputs": [],
   "source": [
    "# we have columns 'order date' and 'ship date' in object datatype we need to convert them to  datetime datatype\n",
    "\n",
    "df['Order Date'] = pd.to_datetime(df['Order Date']) \n",
    "df['Ship Date'] = pd.to_datetime(df['Ship Date'])"
   ]
  },
  {
   "cell_type": "code",
   "execution_count": null,
   "id": "4fe4b15c",
   "metadata": {},
   "outputs": [],
   "source": [
    "df.info()"
   ]
  },
  {
   "cell_type": "code",
   "execution_count": null,
   "id": "917fc5b2",
   "metadata": {},
   "outputs": [],
   "source": [
    "# creating two columns 'order year' and 'ship year' that takes year value from respective columns\n",
    "\n",
    "df['Order Year'] = df['Order Date'].dt.year\n",
    "df['Ship Year'] = df['Ship Date'].dt.year"
   ]
  },
  {
   "cell_type": "code",
   "execution_count": null,
   "id": "e4c5188a",
   "metadata": {},
   "outputs": [],
   "source": [
    "# extracting month from the column 'order date'\n",
    "\n",
    "df['Order_Month'] = df['Order Date'].dt.month\n",
    "df['Order_Month']"
   ]
  },
  {
   "cell_type": "code",
   "execution_count": null,
   "id": "edfaebe3",
   "metadata": {},
   "outputs": [],
   "source": [
    "# extracting order day from the column 'order day' \n",
    "\n",
    "df['Order_Day'] = df['Order Date'].dt.day\n",
    "df['Order_Day']"
   ]
  },
  {
   "cell_type": "code",
   "execution_count": null,
   "id": "fb471a0a",
   "metadata": {},
   "outputs": [],
   "source": [
    "# to find number of days taken for product to ship from order date\n",
    "\n",
    "df['Diff_days'] = (df['Ship Date'] - df['Order Date']) / np.timedelta64(1, 'D')\n",
    "df['Diff_days']"
   ]
  },
  {
   "cell_type": "code",
   "execution_count": null,
   "id": "9ac91715",
   "metadata": {},
   "outputs": [],
   "source": [
    "# converting 'Diff_days' to integer datatype\n",
    "\n",
    "df['Diff_days'] = df['Diff_days'].astype(int)"
   ]
  },
  {
   "cell_type": "code",
   "execution_count": null,
   "id": "0ea4f344",
   "metadata": {},
   "outputs": [],
   "source": [
    "# checking for unique values in region\n",
    "\n",
    "df['Region'].unique()"
   ]
  },
  {
   "cell_type": "code",
   "execution_count": null,
   "id": "2815ef11",
   "metadata": {},
   "outputs": [],
   "source": [
    "# checking unique values for Iten type\n",
    "\n",
    "df['Item Type'].unique()"
   ]
  },
  {
   "cell_type": "code",
   "execution_count": null,
   "id": "8a339790",
   "metadata": {},
   "outputs": [],
   "source": [
    "# checking unique values for country\n",
    "\n",
    "df['Country'].unique()"
   ]
  },
  {
   "cell_type": "code",
   "execution_count": null,
   "id": "565a277f",
   "metadata": {},
   "outputs": [],
   "source": [
    "# checking unique values for Sales Channel\n",
    "\n",
    "df['Sales Channel'].unique()"
   ]
  },
  {
   "cell_type": "code",
   "execution_count": null,
   "id": "3b2af737",
   "metadata": {},
   "outputs": [],
   "source": [
    "# checking unique values for order priority\n",
    "\n",
    "df['Order Priority'].unique()"
   ]
  },
  {
   "cell_type": "code",
   "execution_count": null,
   "id": "66f9e02e",
   "metadata": {},
   "outputs": [],
   "source": [
    "# descriptive statistics\n",
    "\n",
    "df.describe()"
   ]
  },
  {
   "cell_type": "code",
   "execution_count": null,
   "id": "b0a698b4",
   "metadata": {},
   "outputs": [],
   "source": [
    "# Total profit \n",
    "\n",
    "df['Total Profit'].sum()"
   ]
  },
  {
   "cell_type": "code",
   "execution_count": null,
   "id": "aedf5660",
   "metadata": {},
   "outputs": [],
   "source": [
    "# Total Sales\n",
    "\n",
    "df['Total Revenue'].sum()"
   ]
  },
  {
   "cell_type": "code",
   "execution_count": null,
   "id": "730ba933",
   "metadata": {},
   "outputs": [],
   "source": [
    "# Total cost\n",
    "\n",
    "df['Total Cost'].sum()"
   ]
  },
  {
   "cell_type": "code",
   "execution_count": null,
   "id": "b9edd15f",
   "metadata": {},
   "outputs": [],
   "source": [
    "# number of units sold\n",
    "\n",
    "df['Units Sold'].sum()"
   ]
  },
  {
   "cell_type": "code",
   "execution_count": null,
   "id": "3bf6a461",
   "metadata": {},
   "outputs": [],
   "source": [
    "# maximum days taken to ship the product\n",
    "\n",
    "df['Diff_days'].max()"
   ]
  },
  {
   "cell_type": "code",
   "execution_count": null,
   "id": "adae926e",
   "metadata": {},
   "outputs": [],
   "source": [
    "np.where(df['Diff_days']==50)"
   ]
  },
  {
   "cell_type": "code",
   "execution_count": null,
   "id": "c019487b",
   "metadata": {},
   "outputs": [],
   "source": [
    "df[72:73]"
   ]
  },
  {
   "cell_type": "code",
   "execution_count": null,
   "id": "ad34cfce",
   "metadata": {},
   "outputs": [],
   "source": [
    "# minimum days taken to ship the product\n",
    "\n",
    "df['Diff_days'].min()"
   ]
  },
  {
   "cell_type": "code",
   "execution_count": null,
   "id": "08c32642",
   "metadata": {},
   "outputs": [],
   "source": [
    "np.where(df['Diff_days']==0)"
   ]
  },
  {
   "cell_type": "code",
   "execution_count": null,
   "id": "bb8c17ec",
   "metadata": {},
   "outputs": [],
   "source": [
    "df.loc[df.Diff_days==0]"
   ]
  },
  {
   "cell_type": "code",
   "execution_count": null,
   "id": "cb04aa5a",
   "metadata": {},
   "outputs": [],
   "source": [
    "# nummber of order placed through offline\n",
    "\n",
    "np.sum(df['Sales Channel']=='Offline')"
   ]
  },
  {
   "cell_type": "code",
   "execution_count": null,
   "id": "780affc6",
   "metadata": {},
   "outputs": [],
   "source": [
    "# nummber of order placed through online\n",
    "\n",
    "np.sum(df['Sales Channel']=='Online')"
   ]
  },
  {
   "cell_type": "code",
   "execution_count": null,
   "id": "5cf4d950",
   "metadata": {},
   "outputs": [],
   "source": [
    "#correlation\n",
    "\n",
    "plt.figure(figsize=(20,10))\n",
    "sns.heatmap(data = df.corr(), cmap='YlGnBu', annot = True)"
   ]
  },
  {
   "cell_type": "code",
   "execution_count": null,
   "id": "fb2c203e",
   "metadata": {},
   "outputs": [],
   "source": [
    "# region wise - item sold\n",
    "\n",
    "pd.crosstab(df['Item Type'], df['Region'], margins = True)"
   ]
  },
  {
   "cell_type": "code",
   "execution_count": null,
   "id": "948dacc0",
   "metadata": {},
   "outputs": [],
   "source": [
    "# region wise - 'Sales Channel'\n",
    "\n",
    "pd.crosstab(df['Sales Channel'], df['Region'], margins = True)"
   ]
  },
  {
   "cell_type": "code",
   "execution_count": null,
   "id": "05bbe752",
   "metadata": {},
   "outputs": [],
   "source": [
    "# region wise - 'Order Priority'\n",
    "\n",
    "pd.crosstab(df['Order Priority'], df['Region'], margins = True)"
   ]
  },
  {
   "cell_type": "code",
   "execution_count": null,
   "id": "87253630",
   "metadata": {},
   "outputs": [],
   "source": [
    "# year wise - 'Order Priority'\n",
    "\n",
    "pd.crosstab(df['Order Priority'], df['Order Year'], margins = True)"
   ]
  },
  {
   "cell_type": "code",
   "execution_count": null,
   "id": "f19c85ad",
   "metadata": {},
   "outputs": [],
   "source": [
    "# region wise profit\n",
    "\n",
    "pd.crosstab(df['Region'], df['Total Profit'], margins = True)"
   ]
  },
  {
   "cell_type": "code",
   "execution_count": null,
   "id": "ac79608d",
   "metadata": {},
   "outputs": [],
   "source": [
    "# profit by order year\n",
    "\n",
    "pd.pivot_table(df, index='Order Year', values = 'Total Profit')"
   ]
  },
  {
   "cell_type": "code",
   "execution_count": null,
   "id": "b3755cb3",
   "metadata": {},
   "outputs": [],
   "source": [
    "# profit by region\n",
    "\n",
    "pd.pivot_table(df, index = ['Region'], values = 'Total Profit')"
   ]
  },
  {
   "cell_type": "code",
   "execution_count": null,
   "id": "7a04ce8f",
   "metadata": {},
   "outputs": [],
   "source": [
    "# profit by region and item type\n",
    "\n",
    "pd.pivot_table(df, index = ['Region','Item Type'], values = 'Total Profit')"
   ]
  },
  {
   "cell_type": "code",
   "execution_count": null,
   "id": "2ec27010",
   "metadata": {},
   "outputs": [],
   "source": [
    "# profit by item type\n",
    "\n",
    "pd.pivot_table(df, index = 'Item Type', values = 'Total Profit')"
   ]
  },
  {
   "cell_type": "code",
   "execution_count": null,
   "id": "fe21ea56",
   "metadata": {},
   "outputs": [],
   "source": [
    "# Region wise Sales Channel\n",
    "\n",
    "plt.figure(figsize=(20,10))\n",
    "sns.countplot(data = df,\n",
    "              x = 'Sales Channel',\n",
    "              hue = 'Region')\n",
    "plt.title('Region wise Sales Channel\\n')\n",
    "\n",
    "pd.crosstab(df['Sales Channel'], df['Region'], margins = True)"
   ]
  },
  {
   "cell_type": "code",
   "execution_count": null,
   "id": "10b04781",
   "metadata": {},
   "outputs": [],
   "source": [
    "# Item wise Sales Channel\n",
    "\n",
    "plt.figure(figsize=(20,10))\n",
    "sns.countplot(data = df,\n",
    "              x = 'Sales Channel',\n",
    "              hue = 'Item Type')\n",
    "plt.title('Item wise Sales Channel\\n')\n",
    "\n",
    "pd.crosstab(df['Sales Channel'], df['Item Type'], margins = True)"
   ]
  },
  {
   "cell_type": "code",
   "execution_count": null,
   "id": "e08f4e94",
   "metadata": {},
   "outputs": [],
   "source": [
    "# Item wise Priority\n",
    "\n",
    "plt.figure(figsize=(20,10))\n",
    "sns.countplot(data = df,\n",
    "              x = 'Order Priority',\n",
    "              hue = 'Item Type')\n",
    "plt.title('Item wise Priority\\n')\n"
   ]
  },
  {
   "cell_type": "code",
   "execution_count": null,
   "id": "31baa6b4",
   "metadata": {},
   "outputs": [],
   "source": [
    "# Region wise item\n",
    "\n",
    "plt.figure(figsize=(20,10))\n",
    "sns.countplot(data = df,\n",
    "              x = 'Region',\n",
    "              hue = 'Item Type')\n",
    "plt.title('Region wise Item\\n')\n",
    "\n"
   ]
  },
  {
   "cell_type": "code",
   "execution_count": null,
   "id": "36e293e7",
   "metadata": {},
   "outputs": [],
   "source": [
    "# countplot by region\n",
    "\n",
    "plt.figure(figsize=(20,10))\n",
    "sns.countplot(data = df,\n",
    "              x = 'Item Type',\n",
    "              hue = 'Region')\n",
    "plt.title('region wise item type \\n')"
   ]
  },
  {
   "cell_type": "code",
   "execution_count": null,
   "id": "82414c65",
   "metadata": {},
   "outputs": [],
   "source": [
    "# high demanding product\n",
    "\n",
    "plt.figure(figsize=(20,10))\n",
    "sns.countplot(data = df,\n",
    "              x = 'Item Type')\n",
    "plt.title('high demand item \\n')"
   ]
  },
  {
   "cell_type": "code",
   "execution_count": null,
   "id": "581442cd",
   "metadata": {},
   "outputs": [],
   "source": [
    "# item wise by year\n",
    "\n",
    "plt.figure(figsize=(20,10))\n",
    "sns.countplot(data = df,\n",
    "              x = 'Item Type',\n",
    "              hue = 'Order Year')\n",
    "plt.title('year wise item type \\n')"
   ]
  },
  {
   "cell_type": "code",
   "execution_count": null,
   "id": "b9e2820c",
   "metadata": {},
   "outputs": [],
   "source": [
    "price_by_item = df.groupby('Item Type')\n",
    "price_by_item.first()"
   ]
  },
  {
   "cell_type": "code",
   "execution_count": null,
   "id": "bbc3bdb6",
   "metadata": {},
   "outputs": [],
   "source": [
    "price_by_item = df.groupby('Item Type')\n",
    "price_by_item.first()\n",
    "price_by_item.Diff_days.mean()"
   ]
  },
  {
   "cell_type": "code",
   "execution_count": null,
   "id": "dcd4406a",
   "metadata": {},
   "outputs": [],
   "source": [
    "amazon = pd.DataFrame(df)"
   ]
  },
  {
   "cell_type": "code",
   "execution_count": null,
   "id": "cce230a1",
   "metadata": {},
   "outputs": [],
   "source": [
    "amazon"
   ]
  },
  {
   "cell_type": "code",
   "execution_count": null,
   "id": "0b92a374",
   "metadata": {},
   "outputs": [],
   "source": [
    "df.to_excel('amazon.xlsx',encoding='utf-8',index=False)"
   ]
  },
  {
   "cell_type": "markdown",
   "id": "ee6d0831",
   "metadata": {},
   "source": [
    "this file will be loaded in Power-BI for further detailed analysis."
   ]
  },
  {
   "cell_type": "code",
   "execution_count": null,
   "id": "7738e8e1",
   "metadata": {},
   "outputs": [],
   "source": []
  }
 ],
 "metadata": {
  "kernelspec": {
   "display_name": "Python 3 (ipykernel)",
   "language": "python",
   "name": "python3"
  },
  "language_info": {
   "codemirror_mode": {
    "name": "ipython",
    "version": 3
   },
   "file_extension": ".py",
   "mimetype": "text/x-python",
   "name": "python",
   "nbconvert_exporter": "python",
   "pygments_lexer": "ipython3",
   "version": "3.9.7"
  }
 },
 "nbformat": 4,
 "nbformat_minor": 5
}
