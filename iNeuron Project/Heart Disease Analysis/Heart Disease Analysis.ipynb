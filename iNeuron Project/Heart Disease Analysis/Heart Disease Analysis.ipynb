{
 "cells": [
  {
   "cell_type": "code",
   "execution_count": 1,
   "id": "c3df8fed",
   "metadata": {},
   "outputs": [],
   "source": [
    "# importing required libraries\n",
    "\n",
    "import numpy as np\n",
    "import pandas as pd\n",
    "import seaborn as sns\n",
    "%matplotlib inline\n",
    "import matplotlib.pyplot as plt"
   ]
  },
  {
   "cell_type": "code",
   "execution_count": 2,
   "id": "c35d728f",
   "metadata": {},
   "outputs": [],
   "source": [
    "# reading file from file\n",
    "\n",
    "df = pd.read_csv(r'G:\\RAVI\\I_Neuron\\iNeuron Project\\Heart_Disease_Dataset.csv')"
   ]
  },
  {
   "cell_type": "code",
   "execution_count": 3,
   "id": "f97b3dc1",
   "metadata": {
    "scrolled": true
   },
   "outputs": [
    {
     "data": {
      "text/html": [
       "<div>\n",
       "<style scoped>\n",
       "    .dataframe tbody tr th:only-of-type {\n",
       "        vertical-align: middle;\n",
       "    }\n",
       "\n",
       "    .dataframe tbody tr th {\n",
       "        vertical-align: top;\n",
       "    }\n",
       "\n",
       "    .dataframe thead th {\n",
       "        text-align: right;\n",
       "    }\n",
       "</style>\n",
       "<table border=\"1\" class=\"dataframe\">\n",
       "  <thead>\n",
       "    <tr style=\"text-align: right;\">\n",
       "      <th></th>\n",
       "      <th>age</th>\n",
       "      <th>sex</th>\n",
       "      <th>cp</th>\n",
       "      <th>trestbps</th>\n",
       "      <th>chol</th>\n",
       "      <th>fbs</th>\n",
       "      <th>restecg</th>\n",
       "      <th>thalach</th>\n",
       "      <th>exang</th>\n",
       "      <th>oldpeak</th>\n",
       "      <th>slope</th>\n",
       "      <th>ca</th>\n",
       "      <th>thal</th>\n",
       "      <th>num</th>\n",
       "    </tr>\n",
       "  </thead>\n",
       "  <tbody>\n",
       "    <tr>\n",
       "      <th>0</th>\n",
       "      <td>63</td>\n",
       "      <td>1</td>\n",
       "      <td>1</td>\n",
       "      <td>145</td>\n",
       "      <td>233</td>\n",
       "      <td>1</td>\n",
       "      <td>2</td>\n",
       "      <td>150</td>\n",
       "      <td>0</td>\n",
       "      <td>2.3</td>\n",
       "      <td>3</td>\n",
       "      <td>0</td>\n",
       "      <td>6</td>\n",
       "      <td>0</td>\n",
       "    </tr>\n",
       "    <tr>\n",
       "      <th>1</th>\n",
       "      <td>67</td>\n",
       "      <td>1</td>\n",
       "      <td>4</td>\n",
       "      <td>160</td>\n",
       "      <td>286</td>\n",
       "      <td>0</td>\n",
       "      <td>2</td>\n",
       "      <td>108</td>\n",
       "      <td>1</td>\n",
       "      <td>1.5</td>\n",
       "      <td>2</td>\n",
       "      <td>3</td>\n",
       "      <td>3</td>\n",
       "      <td>1</td>\n",
       "    </tr>\n",
       "    <tr>\n",
       "      <th>2</th>\n",
       "      <td>67</td>\n",
       "      <td>1</td>\n",
       "      <td>4</td>\n",
       "      <td>120</td>\n",
       "      <td>229</td>\n",
       "      <td>0</td>\n",
       "      <td>2</td>\n",
       "      <td>129</td>\n",
       "      <td>1</td>\n",
       "      <td>2.6</td>\n",
       "      <td>2</td>\n",
       "      <td>2</td>\n",
       "      <td>7</td>\n",
       "      <td>1</td>\n",
       "    </tr>\n",
       "    <tr>\n",
       "      <th>3</th>\n",
       "      <td>37</td>\n",
       "      <td>1</td>\n",
       "      <td>3</td>\n",
       "      <td>130</td>\n",
       "      <td>250</td>\n",
       "      <td>0</td>\n",
       "      <td>0</td>\n",
       "      <td>187</td>\n",
       "      <td>0</td>\n",
       "      <td>3.5</td>\n",
       "      <td>3</td>\n",
       "      <td>0</td>\n",
       "      <td>3</td>\n",
       "      <td>0</td>\n",
       "    </tr>\n",
       "    <tr>\n",
       "      <th>4</th>\n",
       "      <td>41</td>\n",
       "      <td>0</td>\n",
       "      <td>2</td>\n",
       "      <td>130</td>\n",
       "      <td>204</td>\n",
       "      <td>0</td>\n",
       "      <td>2</td>\n",
       "      <td>172</td>\n",
       "      <td>0</td>\n",
       "      <td>1.4</td>\n",
       "      <td>1</td>\n",
       "      <td>0</td>\n",
       "      <td>3</td>\n",
       "      <td>0</td>\n",
       "    </tr>\n",
       "  </tbody>\n",
       "</table>\n",
       "</div>"
      ],
      "text/plain": [
       "   age  sex  cp  trestbps  chol  fbs  restecg  thalach  exang  oldpeak  slope  \\\n",
       "0   63    1   1       145   233    1        2      150      0      2.3      3   \n",
       "1   67    1   4       160   286    0        2      108      1      1.5      2   \n",
       "2   67    1   4       120   229    0        2      129      1      2.6      2   \n",
       "3   37    1   3       130   250    0        0      187      0      3.5      3   \n",
       "4   41    0   2       130   204    0        2      172      0      1.4      1   \n",
       "\n",
       "   ca  thal  num  \n",
       "0   0     6    0  \n",
       "1   3     3    1  \n",
       "2   2     7    1  \n",
       "3   0     3    0  \n",
       "4   0     3    0  "
      ]
     },
     "execution_count": 3,
     "metadata": {},
     "output_type": "execute_result"
    }
   ],
   "source": [
    "df.head()"
   ]
  },
  {
   "cell_type": "code",
   "execution_count": 4,
   "id": "9e9059ca",
   "metadata": {},
   "outputs": [],
   "source": [
    "# changing column name\n",
    "\n",
    "df = df.rename(columns = {'num':'Heart Disease'})"
   ]
  },
  {
   "cell_type": "code",
   "execution_count": 5,
   "id": "1fb05859",
   "metadata": {},
   "outputs": [
    {
     "name": "stdout",
     "output_type": "stream",
     "text": [
      "<class 'pandas.core.frame.DataFrame'>\n",
      "RangeIndex: 303 entries, 0 to 302\n",
      "Data columns (total 14 columns):\n",
      " #   Column         Non-Null Count  Dtype  \n",
      "---  ------         --------------  -----  \n",
      " 0   age            303 non-null    int64  \n",
      " 1   sex            303 non-null    int64  \n",
      " 2   cp             303 non-null    int64  \n",
      " 3   trestbps       303 non-null    int64  \n",
      " 4   chol           303 non-null    int64  \n",
      " 5   fbs            303 non-null    int64  \n",
      " 6   restecg        303 non-null    int64  \n",
      " 7   thalach        303 non-null    int64  \n",
      " 8   exang          303 non-null    int64  \n",
      " 9   oldpeak        303 non-null    float64\n",
      " 10  slope          303 non-null    int64  \n",
      " 11  ca             303 non-null    int64  \n",
      " 12  thal           303 non-null    int64  \n",
      " 13  Heart Disease  303 non-null    int64  \n",
      "dtypes: float64(1), int64(13)\n",
      "memory usage: 33.3 KB\n"
     ]
    }
   ],
   "source": [
    "df.info()"
   ]
  },
  {
   "cell_type": "code",
   "execution_count": 6,
   "id": "0ee0d1f3",
   "metadata": {},
   "outputs": [
    {
     "data": {
      "text/plain": [
       "(303, 14)"
      ]
     },
     "execution_count": 6,
     "metadata": {},
     "output_type": "execute_result"
    }
   ],
   "source": [
    "df.shape"
   ]
  },
  {
   "cell_type": "code",
   "execution_count": 7,
   "id": "9a4018cb",
   "metadata": {},
   "outputs": [
    {
     "data": {
      "text/plain": [
       "age              0\n",
       "sex              0\n",
       "cp               0\n",
       "trestbps         0\n",
       "chol             0\n",
       "fbs              0\n",
       "restecg          0\n",
       "thalach          0\n",
       "exang            0\n",
       "oldpeak          0\n",
       "slope            0\n",
       "ca               0\n",
       "thal             0\n",
       "Heart Disease    0\n",
       "dtype: int64"
      ]
     },
     "execution_count": 7,
     "metadata": {},
     "output_type": "execute_result"
    }
   ],
   "source": [
    "df.isnull().sum()"
   ]
  },
  {
   "cell_type": "code",
   "execution_count": 8,
   "id": "114f4eca",
   "metadata": {},
   "outputs": [
    {
     "data": {
      "text/plain": [
       "77"
      ]
     },
     "execution_count": 8,
     "metadata": {},
     "output_type": "execute_result"
    }
   ],
   "source": [
    "max_age = df['age'].max()\n",
    "max_age"
   ]
  },
  {
   "cell_type": "code",
   "execution_count": 9,
   "id": "8c3fbd38",
   "metadata": {},
   "outputs": [
    {
     "data": {
      "text/plain": [
       "29"
      ]
     },
     "execution_count": 9,
     "metadata": {},
     "output_type": "execute_result"
    }
   ],
   "source": [
    "min_age = df['age'].min()\n",
    "min_age"
   ]
  },
  {
   "cell_type": "code",
   "execution_count": 10,
   "id": "f0f523ce",
   "metadata": {},
   "outputs": [],
   "source": [
    "# creating bins for age\n",
    "\n",
    "bins = [28,45,60,max_age]\n",
    "labels = ['below 45', '45-60', 'above 60']\n",
    "\n",
    "# creating new column 'age_group'\n",
    "df['age_group'] = pd.cut(df['age'], bins=bins, labels=labels)\n"
   ]
  },
  {
   "cell_type": "code",
   "execution_count": 11,
   "id": "41a9a19c",
   "metadata": {},
   "outputs": [
    {
     "data": {
      "text/html": [
       "<div>\n",
       "<style scoped>\n",
       "    .dataframe tbody tr th:only-of-type {\n",
       "        vertical-align: middle;\n",
       "    }\n",
       "\n",
       "    .dataframe tbody tr th {\n",
       "        vertical-align: top;\n",
       "    }\n",
       "\n",
       "    .dataframe thead th {\n",
       "        text-align: right;\n",
       "    }\n",
       "</style>\n",
       "<table border=\"1\" class=\"dataframe\">\n",
       "  <thead>\n",
       "    <tr style=\"text-align: right;\">\n",
       "      <th></th>\n",
       "      <th>age</th>\n",
       "      <th>sex</th>\n",
       "      <th>cp</th>\n",
       "      <th>trestbps</th>\n",
       "      <th>chol</th>\n",
       "      <th>fbs</th>\n",
       "      <th>restecg</th>\n",
       "      <th>thalach</th>\n",
       "      <th>exang</th>\n",
       "      <th>oldpeak</th>\n",
       "      <th>slope</th>\n",
       "      <th>ca</th>\n",
       "      <th>thal</th>\n",
       "      <th>Heart Disease</th>\n",
       "      <th>age_group</th>\n",
       "    </tr>\n",
       "  </thead>\n",
       "  <tbody>\n",
       "    <tr>\n",
       "      <th>0</th>\n",
       "      <td>63</td>\n",
       "      <td>1</td>\n",
       "      <td>1</td>\n",
       "      <td>145</td>\n",
       "      <td>233</td>\n",
       "      <td>1</td>\n",
       "      <td>2</td>\n",
       "      <td>150</td>\n",
       "      <td>0</td>\n",
       "      <td>2.3</td>\n",
       "      <td>3</td>\n",
       "      <td>0</td>\n",
       "      <td>6</td>\n",
       "      <td>0</td>\n",
       "      <td>above 60</td>\n",
       "    </tr>\n",
       "    <tr>\n",
       "      <th>1</th>\n",
       "      <td>67</td>\n",
       "      <td>1</td>\n",
       "      <td>4</td>\n",
       "      <td>160</td>\n",
       "      <td>286</td>\n",
       "      <td>0</td>\n",
       "      <td>2</td>\n",
       "      <td>108</td>\n",
       "      <td>1</td>\n",
       "      <td>1.5</td>\n",
       "      <td>2</td>\n",
       "      <td>3</td>\n",
       "      <td>3</td>\n",
       "      <td>1</td>\n",
       "      <td>above 60</td>\n",
       "    </tr>\n",
       "    <tr>\n",
       "      <th>2</th>\n",
       "      <td>67</td>\n",
       "      <td>1</td>\n",
       "      <td>4</td>\n",
       "      <td>120</td>\n",
       "      <td>229</td>\n",
       "      <td>0</td>\n",
       "      <td>2</td>\n",
       "      <td>129</td>\n",
       "      <td>1</td>\n",
       "      <td>2.6</td>\n",
       "      <td>2</td>\n",
       "      <td>2</td>\n",
       "      <td>7</td>\n",
       "      <td>1</td>\n",
       "      <td>above 60</td>\n",
       "    </tr>\n",
       "    <tr>\n",
       "      <th>3</th>\n",
       "      <td>37</td>\n",
       "      <td>1</td>\n",
       "      <td>3</td>\n",
       "      <td>130</td>\n",
       "      <td>250</td>\n",
       "      <td>0</td>\n",
       "      <td>0</td>\n",
       "      <td>187</td>\n",
       "      <td>0</td>\n",
       "      <td>3.5</td>\n",
       "      <td>3</td>\n",
       "      <td>0</td>\n",
       "      <td>3</td>\n",
       "      <td>0</td>\n",
       "      <td>below 45</td>\n",
       "    </tr>\n",
       "    <tr>\n",
       "      <th>4</th>\n",
       "      <td>41</td>\n",
       "      <td>0</td>\n",
       "      <td>2</td>\n",
       "      <td>130</td>\n",
       "      <td>204</td>\n",
       "      <td>0</td>\n",
       "      <td>2</td>\n",
       "      <td>172</td>\n",
       "      <td>0</td>\n",
       "      <td>1.4</td>\n",
       "      <td>1</td>\n",
       "      <td>0</td>\n",
       "      <td>3</td>\n",
       "      <td>0</td>\n",
       "      <td>below 45</td>\n",
       "    </tr>\n",
       "    <tr>\n",
       "      <th>5</th>\n",
       "      <td>56</td>\n",
       "      <td>1</td>\n",
       "      <td>2</td>\n",
       "      <td>120</td>\n",
       "      <td>236</td>\n",
       "      <td>0</td>\n",
       "      <td>0</td>\n",
       "      <td>178</td>\n",
       "      <td>0</td>\n",
       "      <td>0.8</td>\n",
       "      <td>1</td>\n",
       "      <td>0</td>\n",
       "      <td>3</td>\n",
       "      <td>0</td>\n",
       "      <td>45-60</td>\n",
       "    </tr>\n",
       "    <tr>\n",
       "      <th>6</th>\n",
       "      <td>62</td>\n",
       "      <td>0</td>\n",
       "      <td>4</td>\n",
       "      <td>140</td>\n",
       "      <td>268</td>\n",
       "      <td>0</td>\n",
       "      <td>2</td>\n",
       "      <td>160</td>\n",
       "      <td>0</td>\n",
       "      <td>3.6</td>\n",
       "      <td>3</td>\n",
       "      <td>2</td>\n",
       "      <td>3</td>\n",
       "      <td>1</td>\n",
       "      <td>above 60</td>\n",
       "    </tr>\n",
       "    <tr>\n",
       "      <th>7</th>\n",
       "      <td>57</td>\n",
       "      <td>0</td>\n",
       "      <td>4</td>\n",
       "      <td>120</td>\n",
       "      <td>354</td>\n",
       "      <td>0</td>\n",
       "      <td>0</td>\n",
       "      <td>163</td>\n",
       "      <td>1</td>\n",
       "      <td>0.6</td>\n",
       "      <td>1</td>\n",
       "      <td>0</td>\n",
       "      <td>3</td>\n",
       "      <td>0</td>\n",
       "      <td>45-60</td>\n",
       "    </tr>\n",
       "    <tr>\n",
       "      <th>8</th>\n",
       "      <td>63</td>\n",
       "      <td>1</td>\n",
       "      <td>4</td>\n",
       "      <td>130</td>\n",
       "      <td>254</td>\n",
       "      <td>0</td>\n",
       "      <td>2</td>\n",
       "      <td>147</td>\n",
       "      <td>0</td>\n",
       "      <td>1.4</td>\n",
       "      <td>2</td>\n",
       "      <td>1</td>\n",
       "      <td>7</td>\n",
       "      <td>1</td>\n",
       "      <td>above 60</td>\n",
       "    </tr>\n",
       "    <tr>\n",
       "      <th>9</th>\n",
       "      <td>53</td>\n",
       "      <td>1</td>\n",
       "      <td>4</td>\n",
       "      <td>140</td>\n",
       "      <td>203</td>\n",
       "      <td>1</td>\n",
       "      <td>2</td>\n",
       "      <td>155</td>\n",
       "      <td>1</td>\n",
       "      <td>3.1</td>\n",
       "      <td>3</td>\n",
       "      <td>0</td>\n",
       "      <td>7</td>\n",
       "      <td>1</td>\n",
       "      <td>45-60</td>\n",
       "    </tr>\n",
       "  </tbody>\n",
       "</table>\n",
       "</div>"
      ],
      "text/plain": [
       "   age  sex  cp  trestbps  chol  fbs  restecg  thalach  exang  oldpeak  slope  \\\n",
       "0   63    1   1       145   233    1        2      150      0      2.3      3   \n",
       "1   67    1   4       160   286    0        2      108      1      1.5      2   \n",
       "2   67    1   4       120   229    0        2      129      1      2.6      2   \n",
       "3   37    1   3       130   250    0        0      187      0      3.5      3   \n",
       "4   41    0   2       130   204    0        2      172      0      1.4      1   \n",
       "5   56    1   2       120   236    0        0      178      0      0.8      1   \n",
       "6   62    0   4       140   268    0        2      160      0      3.6      3   \n",
       "7   57    0   4       120   354    0        0      163      1      0.6      1   \n",
       "8   63    1   4       130   254    0        2      147      0      1.4      2   \n",
       "9   53    1   4       140   203    1        2      155      1      3.1      3   \n",
       "\n",
       "   ca  thal  Heart Disease age_group  \n",
       "0   0     6              0  above 60  \n",
       "1   3     3              1  above 60  \n",
       "2   2     7              1  above 60  \n",
       "3   0     3              0  below 45  \n",
       "4   0     3              0  below 45  \n",
       "5   0     3              0     45-60  \n",
       "6   2     3              1  above 60  \n",
       "7   0     3              0     45-60  \n",
       "8   1     7              1  above 60  \n",
       "9   0     7              1     45-60  "
      ]
     },
     "execution_count": 11,
     "metadata": {},
     "output_type": "execute_result"
    }
   ],
   "source": [
    "df.head(10)"
   ]
  },
  {
   "cell_type": "code",
   "execution_count": 12,
   "id": "63b1fb95",
   "metadata": {},
   "outputs": [
    {
     "data": {
      "text/plain": [
       "<AxesSubplot:title={'center':'finding null values using heat map\\n'}>"
      ]
     },
     "execution_count": 12,
     "metadata": {},
     "output_type": "execute_result"
    },
    {
     "data": {
      "image/png": "[encoded data removed]",
      "text/plain": [
       "<Figure size 720x576 with 1 Axes>"
      ]
     },
     "metadata": {
      "needs_background": "light"
     },
     "output_type": "display_data"
    }
   ],
   "source": [
    "# visualizing null values by heatmap\n",
    "plt.figure(figsize=(10,8))\n",
    "plt.xticks(size=16,color='blue')\n",
    "plt.tick_params(size=10,color='red')\n",
    "plt.title('finding null values using heat map\\n')\n",
    "sns.heatmap(df.isnull(), yticklabels=False,cbar=False,cmap='PuBu_r')"
   ]
  },
  {
   "cell_type": "code",
   "execution_count": 13,
   "id": "12340bb8",
   "metadata": {},
   "outputs": [],
   "source": [
    "# changing data type\n",
    "lst = ['sex','cp','fbs','restecg','exang','slope','ca','thal','Heart Disease']\n",
    "\n",
    "def change_datatype():\n",
    "    for i in lst:\n",
    "        df[i]=df[i].astype('category')\n",
    "        \n",
    "# calling fuction\n",
    "change_datatype()"
   ]
  },
  {
   "cell_type": "code",
   "execution_count": 14,
   "id": "bfc8003e",
   "metadata": {},
   "outputs": [
    {
     "name": "stdout",
     "output_type": "stream",
     "text": [
      "unique values for sex [1, 0]\n",
      "Categories (2, int64): [0, 1]\n",
      "unique values for cp [1, 4, 3, 2]\n",
      "Categories (4, int64): [1, 2, 3, 4]\n",
      "unique values for fbs [1, 0]\n",
      "Categories (2, int64): [0, 1]\n",
      "unique values for restecg [2, 0, 1]\n",
      "Categories (3, int64): [0, 1, 2]\n",
      "unique values for exang [0, 1]\n",
      "Categories (2, int64): [0, 1]\n",
      "unique values for slope [3, 2, 1]\n",
      "Categories (3, int64): [1, 2, 3]\n",
      "unique values for ca [0, 3, 2, 1, -100000]\n",
      "Categories (5, int64): [-100000, 0, 1, 2, 3]\n",
      "unique values for thal [6, 3, 7, -100000]\n",
      "Categories (4, int64): [-100000, 3, 6, 7]\n",
      "unique values for Heart Disease [0, 1]\n",
      "Categories (2, int64): [0, 1]\n"
     ]
    },
    {
     "data": {
      "text/plain": [
       "'\\nfor i in lst:\\n    print(i, len(df[i].unique()))\\n'"
      ]
     },
     "execution_count": 14,
     "metadata": {},
     "output_type": "execute_result"
    }
   ],
   "source": [
    "for i in lst:\n",
    "    print('unique values for ' + '{}'.format(i), df[i].unique())\n",
    "    \n",
    "\"\"\"\n",
    "for i in lst:\n",
    "    print(i, len(df[i].unique()))\n",
    "\"\"\""
   ]
  },
  {
   "cell_type": "code",
   "execution_count": 15,
   "id": "703ae2ab",
   "metadata": {},
   "outputs": [
    {
     "name": "stdout",
     "output_type": "stream",
     "text": [
      "(array([166, 192, 287, 302], dtype=int64),)\n",
      "(array([ 87, 266], dtype=int64),)\n"
     ]
    }
   ],
   "source": [
    "print(np.where(df['ca'] == -100000))\n",
    "print(np.where(df['thal'] == -100000))"
   ]
  },
  {
   "cell_type": "code",
   "execution_count": 16,
   "id": "f5e7b383",
   "metadata": {},
   "outputs": [
    {
     "name": "stdout",
     "output_type": "stream",
     "text": [
      "[0, 3, 2, 1]\n",
      "Categories (4, int64): [0, 1, 2, 3]\n",
      "[6, 3, 7]\n",
      "Categories (3, int64): [3, 6, 7]\n"
     ]
    }
   ],
   "source": [
    "# replacing error values with mode\n",
    "df['ca'] = df['ca'].replace([-100000], df['ca'].mode())\n",
    "print(df['ca'].unique())\n",
    "\n",
    "df['thal'] = df['thal'].replace([-100000], df['thal'].mode())\n",
    "print(df['thal'].unique())"
   ]
  },
  {
   "cell_type": "code",
   "execution_count": 17,
   "id": "bcb746f1",
   "metadata": {},
   "outputs": [
    {
     "name": "stdout",
     "output_type": "stream",
     "text": [
      "[0, 3, 2, 1]\n",
      "Categories (4, int64): [0, 1, 2, 3]\n",
      "[6, 3, 7]\n",
      "Categories (3, int64): [3, 6, 7]\n"
     ]
    }
   ],
   "source": [
    "print(df['ca'].unique())\n",
    "print(df['thal'].unique())"
   ]
  },
  {
   "cell_type": "code",
   "execution_count": 18,
   "id": "99f399bd",
   "metadata": {},
   "outputs": [],
   "source": [
    "# proper formatting categorical values\n",
    "\n",
    "def gender(sex):\n",
    "    if sex == 0:\n",
    "        return 'female'\n",
    "    else:\n",
    "        return 'male'\n",
    "    \n",
    "# calling function\n",
    "df['sex'] = df['sex'].apply(gender)"
   ]
  },
  {
   "cell_type": "code",
   "execution_count": 19,
   "id": "d6696c15",
   "metadata": {},
   "outputs": [],
   "source": [
    "# proper formatting cp values\n",
    "\n",
    "def chest_pain(cp):\n",
    "    if cp == 1:\n",
    "        return 'typical angina'\n",
    "    elif cp == 2:\n",
    "        return 'atypical angina'\n",
    "    elif cp == 3:\n",
    "        return 'non-anginal pain'\n",
    "    else:\n",
    "        return 'asymptomatic'\n",
    "    \n",
    "# calling function\n",
    "df['cp'] = df['cp'].apply(chest_pain)"
   ]
  },
  {
   "cell_type": "code",
   "execution_count": 20,
   "id": "13f7344a",
   "metadata": {},
   "outputs": [],
   "source": [
    "# proper formatting fbs values\n",
    "\n",
    "def fasting_bloodsugar(fbs):\n",
    "    if fbs == 0:\n",
    "        return 'below 120mg/dl'\n",
    "    else:\n",
    "        return 'above 120 mg/dl'\n",
    "    \n",
    "# calling function\n",
    "df['fbs'] = df['fbs'].apply(fasting_bloodsugar)"
   ]
  },
  {
   "cell_type": "code",
   "execution_count": 21,
   "id": "33b02f46",
   "metadata": {},
   "outputs": [],
   "source": [
    "# proper formatting categorical values\n",
    "\n",
    "def resting_ecg(restecg):\n",
    "    if restecg == 0:\n",
    "        return 'normal'\n",
    "    elif restecg == 1:\n",
    "        return 'abnormality'\n",
    "    else:\n",
    "        return 'hypertrophy'\n",
    "    \n",
    "# calling function\n",
    "df['restecg'] = df['restecg'].apply(resting_ecg)"
   ]
  },
  {
   "cell_type": "code",
   "execution_count": 22,
   "id": "f3bfbda6",
   "metadata": {},
   "outputs": [],
   "source": [
    "# proper formatting categorical values\n",
    "\n",
    "def exercised_angina(exang):\n",
    "    if exang == 0:\n",
    "        return 'no'\n",
    "    else:\n",
    "        return 'yes'\n",
    "    \n",
    "# calling function\n",
    "df['exang'] = df['exang'].apply(exercised_angina)"
   ]
  },
  {
   "cell_type": "code",
   "execution_count": 23,
   "id": "f6e62716",
   "metadata": {},
   "outputs": [],
   "source": [
    "# proper formatting categorical values\n",
    "def slope_segment(slope):\n",
    "    if slope == 1:\n",
    "        return 'upsloping'\n",
    "    elif slope == 2:\n",
    "        return 'flat'\n",
    "    else:\n",
    "        return 'downsloping'\n",
    "    \n",
    "# calling function\n",
    "df['slope'] = df['slope'].apply(slope_segment)"
   ]
  },
  {
   "cell_type": "code",
   "execution_count": 24,
   "id": "70983117",
   "metadata": {},
   "outputs": [],
   "source": [
    "# proper formatting categorical values\n",
    "\n",
    "def thal_effect(thal):\n",
    "    if thal == 3:\n",
    "        return 'normal'\n",
    "    elif thal == 6:\n",
    "        return 'fixed defect'\n",
    "    else:\n",
    "        return 'reversable defect'\n",
    "    \n",
    "# calling function\n",
    "df['thal'] = df['thal'].apply(thal_effect)"
   ]
  },
  {
   "cell_type": "code",
   "execution_count": 25,
   "id": "fa7a7958",
   "metadata": {},
   "outputs": [],
   "source": [
    "# proper formatting categorical values\n",
    "\n",
    "def disease(target):\n",
    "    if target == 0:\n",
    "        return 'absent'\n",
    "    else:\n",
    "        return 'pesent'\n",
    "    \n",
    "# calling function\n",
    "df['Heart Disease'] = df['Heart Disease'].apply(disease)"
   ]
  },
  {
   "cell_type": "code",
   "execution_count": 26,
   "id": "4e40ee5e",
   "metadata": {},
   "outputs": [
    {
     "data": {
      "text/html": [
       "<div>\n",
       "<style scoped>\n",
       "    .dataframe tbody tr th:only-of-type {\n",
       "        vertical-align: middle;\n",
       "    }\n",
       "\n",
       "    .dataframe tbody tr th {\n",
       "        vertical-align: top;\n",
       "    }\n",
       "\n",
       "    .dataframe thead th {\n",
       "        text-align: right;\n",
       "    }\n",
       "</style>\n",
       "<table border=\"1\" class=\"dataframe\">\n",
       "  <thead>\n",
       "    <tr style=\"text-align: right;\">\n",
       "      <th></th>\n",
       "      <th>age</th>\n",
       "      <th>sex</th>\n",
       "      <th>cp</th>\n",
       "      <th>trestbps</th>\n",
       "      <th>chol</th>\n",
       "      <th>fbs</th>\n",
       "      <th>restecg</th>\n",
       "      <th>thalach</th>\n",
       "      <th>exang</th>\n",
       "      <th>oldpeak</th>\n",
       "      <th>slope</th>\n",
       "      <th>ca</th>\n",
       "      <th>thal</th>\n",
       "      <th>Heart Disease</th>\n",
       "      <th>age_group</th>\n",
       "    </tr>\n",
       "  </thead>\n",
       "  <tbody>\n",
       "    <tr>\n",
       "      <th>0</th>\n",
       "      <td>63</td>\n",
       "      <td>male</td>\n",
       "      <td>typical angina</td>\n",
       "      <td>145</td>\n",
       "      <td>233</td>\n",
       "      <td>above 120 mg/dl</td>\n",
       "      <td>hypertrophy</td>\n",
       "      <td>150</td>\n",
       "      <td>no</td>\n",
       "      <td>2.3</td>\n",
       "      <td>downsloping</td>\n",
       "      <td>0</td>\n",
       "      <td>fixed defect</td>\n",
       "      <td>absent</td>\n",
       "      <td>above 60</td>\n",
       "    </tr>\n",
       "    <tr>\n",
       "      <th>1</th>\n",
       "      <td>67</td>\n",
       "      <td>male</td>\n",
       "      <td>asymptomatic</td>\n",
       "      <td>160</td>\n",
       "      <td>286</td>\n",
       "      <td>below 120mg/dl</td>\n",
       "      <td>hypertrophy</td>\n",
       "      <td>108</td>\n",
       "      <td>yes</td>\n",
       "      <td>1.5</td>\n",
       "      <td>flat</td>\n",
       "      <td>3</td>\n",
       "      <td>normal</td>\n",
       "      <td>pesent</td>\n",
       "      <td>above 60</td>\n",
       "    </tr>\n",
       "    <tr>\n",
       "      <th>2</th>\n",
       "      <td>67</td>\n",
       "      <td>male</td>\n",
       "      <td>asymptomatic</td>\n",
       "      <td>120</td>\n",
       "      <td>229</td>\n",
       "      <td>below 120mg/dl</td>\n",
       "      <td>hypertrophy</td>\n",
       "      <td>129</td>\n",
       "      <td>yes</td>\n",
       "      <td>2.6</td>\n",
       "      <td>flat</td>\n",
       "      <td>2</td>\n",
       "      <td>reversable defect</td>\n",
       "      <td>pesent</td>\n",
       "      <td>above 60</td>\n",
       "    </tr>\n",
       "    <tr>\n",
       "      <th>3</th>\n",
       "      <td>37</td>\n",
       "      <td>male</td>\n",
       "      <td>non-anginal pain</td>\n",
       "      <td>130</td>\n",
       "      <td>250</td>\n",
       "      <td>below 120mg/dl</td>\n",
       "      <td>normal</td>\n",
       "      <td>187</td>\n",
       "      <td>no</td>\n",
       "      <td>3.5</td>\n",
       "      <td>downsloping</td>\n",
       "      <td>0</td>\n",
       "      <td>normal</td>\n",
       "      <td>absent</td>\n",
       "      <td>below 45</td>\n",
       "    </tr>\n",
       "    <tr>\n",
       "      <th>4</th>\n",
       "      <td>41</td>\n",
       "      <td>female</td>\n",
       "      <td>atypical angina</td>\n",
       "      <td>130</td>\n",
       "      <td>204</td>\n",
       "      <td>below 120mg/dl</td>\n",
       "      <td>hypertrophy</td>\n",
       "      <td>172</td>\n",
       "      <td>no</td>\n",
       "      <td>1.4</td>\n",
       "      <td>upsloping</td>\n",
       "      <td>0</td>\n",
       "      <td>normal</td>\n",
       "      <td>absent</td>\n",
       "      <td>below 45</td>\n",
       "    </tr>\n",
       "    <tr>\n",
       "      <th>5</th>\n",
       "      <td>56</td>\n",
       "      <td>male</td>\n",
       "      <td>atypical angina</td>\n",
       "      <td>120</td>\n",
       "      <td>236</td>\n",
       "      <td>below 120mg/dl</td>\n",
       "      <td>normal</td>\n",
       "      <td>178</td>\n",
       "      <td>no</td>\n",
       "      <td>0.8</td>\n",
       "      <td>upsloping</td>\n",
       "      <td>0</td>\n",
       "      <td>normal</td>\n",
       "      <td>absent</td>\n",
       "      <td>45-60</td>\n",
       "    </tr>\n",
       "    <tr>\n",
       "      <th>6</th>\n",
       "      <td>62</td>\n",
       "      <td>female</td>\n",
       "      <td>asymptomatic</td>\n",
       "      <td>140</td>\n",
       "      <td>268</td>\n",
       "      <td>below 120mg/dl</td>\n",
       "      <td>hypertrophy</td>\n",
       "      <td>160</td>\n",
       "      <td>no</td>\n",
       "      <td>3.6</td>\n",
       "      <td>downsloping</td>\n",
       "      <td>2</td>\n",
       "      <td>normal</td>\n",
       "      <td>pesent</td>\n",
       "      <td>above 60</td>\n",
       "    </tr>\n",
       "    <tr>\n",
       "      <th>7</th>\n",
       "      <td>57</td>\n",
       "      <td>female</td>\n",
       "      <td>asymptomatic</td>\n",
       "      <td>120</td>\n",
       "      <td>354</td>\n",
       "      <td>below 120mg/dl</td>\n",
       "      <td>normal</td>\n",
       "      <td>163</td>\n",
       "      <td>yes</td>\n",
       "      <td>0.6</td>\n",
       "      <td>upsloping</td>\n",
       "      <td>0</td>\n",
       "      <td>normal</td>\n",
       "      <td>absent</td>\n",
       "      <td>45-60</td>\n",
       "    </tr>\n",
       "    <tr>\n",
       "      <th>8</th>\n",
       "      <td>63</td>\n",
       "      <td>male</td>\n",
       "      <td>asymptomatic</td>\n",
       "      <td>130</td>\n",
       "      <td>254</td>\n",
       "      <td>below 120mg/dl</td>\n",
       "      <td>hypertrophy</td>\n",
       "      <td>147</td>\n",
       "      <td>no</td>\n",
       "      <td>1.4</td>\n",
       "      <td>flat</td>\n",
       "      <td>1</td>\n",
       "      <td>reversable defect</td>\n",
       "      <td>pesent</td>\n",
       "      <td>above 60</td>\n",
       "    </tr>\n",
       "    <tr>\n",
       "      <th>9</th>\n",
       "      <td>53</td>\n",
       "      <td>male</td>\n",
       "      <td>asymptomatic</td>\n",
       "      <td>140</td>\n",
       "      <td>203</td>\n",
       "      <td>above 120 mg/dl</td>\n",
       "      <td>hypertrophy</td>\n",
       "      <td>155</td>\n",
       "      <td>yes</td>\n",
       "      <td>3.1</td>\n",
       "      <td>downsloping</td>\n",
       "      <td>0</td>\n",
       "      <td>reversable defect</td>\n",
       "      <td>pesent</td>\n",
       "      <td>45-60</td>\n",
       "    </tr>\n",
       "  </tbody>\n",
       "</table>\n",
       "</div>"
      ],
      "text/plain": [
       "   age     sex                cp  trestbps  chol              fbs  \\\n",
       "0   63    male    typical angina       145   233  above 120 mg/dl   \n",
       "1   67    male      asymptomatic       160   286   below 120mg/dl   \n",
       "2   67    male      asymptomatic       120   229   below 120mg/dl   \n",
       "3   37    male  non-anginal pain       130   250   below 120mg/dl   \n",
       "4   41  female   atypical angina       130   204   below 120mg/dl   \n",
       "5   56    male   atypical angina       120   236   below 120mg/dl   \n",
       "6   62  female      asymptomatic       140   268   below 120mg/dl   \n",
       "7   57  female      asymptomatic       120   354   below 120mg/dl   \n",
       "8   63    male      asymptomatic       130   254   below 120mg/dl   \n",
       "9   53    male      asymptomatic       140   203  above 120 mg/dl   \n",
       "\n",
       "       restecg  thalach exang  oldpeak        slope ca               thal  \\\n",
       "0  hypertrophy      150    no      2.3  downsloping  0       fixed defect   \n",
       "1  hypertrophy      108   yes      1.5         flat  3             normal   \n",
       "2  hypertrophy      129   yes      2.6         flat  2  reversable defect   \n",
       "3       normal      187    no      3.5  downsloping  0             normal   \n",
       "4  hypertrophy      172    no      1.4    upsloping  0             normal   \n",
       "5       normal      178    no      0.8    upsloping  0             normal   \n",
       "6  hypertrophy      160    no      3.6  downsloping  2             normal   \n",
       "7       normal      163   yes      0.6    upsloping  0             normal   \n",
       "8  hypertrophy      147    no      1.4         flat  1  reversable defect   \n",
       "9  hypertrophy      155   yes      3.1  downsloping  0  reversable defect   \n",
       "\n",
       "  Heart Disease age_group  \n",
       "0        absent  above 60  \n",
       "1        pesent  above 60  \n",
       "2        pesent  above 60  \n",
       "3        absent  below 45  \n",
       "4        absent  below 45  \n",
       "5        absent     45-60  \n",
       "6        pesent  above 60  \n",
       "7        absent     45-60  \n",
       "8        pesent  above 60  \n",
       "9        pesent     45-60  "
      ]
     },
     "execution_count": 26,
     "metadata": {},
     "output_type": "execute_result"
    }
   ],
   "source": [
    "df.head(10)"
   ]
  },
  {
   "cell_type": "code",
   "execution_count": 27,
   "id": "47057094",
   "metadata": {},
   "outputs": [
    {
     "data": {
      "text/plain": [
       "<AxesSubplot:>"
      ]
     },
     "execution_count": 27,
     "metadata": {},
     "output_type": "execute_result"
    },
    {
     "data": {
      "image/png": "[encoded data removed]",
      "text/plain": [
       "<Figure size 432x288 with 2 Axes>"
      ]
     },
     "metadata": {
      "needs_background": "light"
     },
     "output_type": "display_data"
    }
   ],
   "source": [
    "# correlation with heatmap\n",
    "\n",
    "#plt.figure(figsize=(20,10))\n",
    "#sns.heatmap(df.corr(), annot=True, cmap='magma', fmt='.2g')\n",
    "\n",
    "sns.heatmap(data = df.corr(), cmap = 'YlGnBu', annot = True )"
   ]
  },
  {
   "cell_type": "code",
   "execution_count": 28,
   "id": "2df0b5f1",
   "metadata": {},
   "outputs": [
    {
     "data": {
      "text/html": [
       "<div>\n",
       "<style scoped>\n",
       "    .dataframe tbody tr th:only-of-type {\n",
       "        vertical-align: middle;\n",
       "    }\n",
       "\n",
       "    .dataframe tbody tr th {\n",
       "        vertical-align: top;\n",
       "    }\n",
       "\n",
       "    .dataframe thead th {\n",
       "        text-align: right;\n",
       "    }\n",
       "</style>\n",
       "<table border=\"1\" class=\"dataframe\">\n",
       "  <thead>\n",
       "    <tr style=\"text-align: right;\">\n",
       "      <th>age_group</th>\n",
       "      <th>below 45</th>\n",
       "      <th>45-60</th>\n",
       "      <th>above 60</th>\n",
       "      <th>All</th>\n",
       "    </tr>\n",
       "    <tr>\n",
       "      <th>cp</th>\n",
       "      <th></th>\n",
       "      <th></th>\n",
       "      <th></th>\n",
       "      <th></th>\n",
       "    </tr>\n",
       "  </thead>\n",
       "  <tbody>\n",
       "    <tr>\n",
       "      <th>typical angina</th>\n",
       "      <td>5</td>\n",
       "      <td>10</td>\n",
       "      <td>8</td>\n",
       "      <td>23</td>\n",
       "    </tr>\n",
       "    <tr>\n",
       "      <th>atypical angina</th>\n",
       "      <td>16</td>\n",
       "      <td>27</td>\n",
       "      <td>7</td>\n",
       "      <td>50</td>\n",
       "    </tr>\n",
       "    <tr>\n",
       "      <th>non-anginal pain</th>\n",
       "      <td>19</td>\n",
       "      <td>46</td>\n",
       "      <td>21</td>\n",
       "      <td>86</td>\n",
       "    </tr>\n",
       "    <tr>\n",
       "      <th>asymptomatic</th>\n",
       "      <td>23</td>\n",
       "      <td>78</td>\n",
       "      <td>43</td>\n",
       "      <td>144</td>\n",
       "    </tr>\n",
       "    <tr>\n",
       "      <th>All</th>\n",
       "      <td>63</td>\n",
       "      <td>161</td>\n",
       "      <td>79</td>\n",
       "      <td>303</td>\n",
       "    </tr>\n",
       "  </tbody>\n",
       "</table>\n",
       "</div>"
      ],
      "text/plain": [
       "age_group         below 45  45-60  above 60  All\n",
       "cp                                              \n",
       "typical angina           5     10         8   23\n",
       "atypical angina         16     27         7   50\n",
       "non-anginal pain        19     46        21   86\n",
       "asymptomatic            23     78        43  144\n",
       "All                     63    161        79  303"
      ]
     },
     "execution_count": 28,
     "metadata": {},
     "output_type": "execute_result"
    },
    {
     "data": {
      "image/png": "[encoded data removed]",
      "text/plain": [
       "<Figure size 432x288 with 1 Axes>"
      ]
     },
     "metadata": {
      "needs_background": "light"
     },
     "output_type": "display_data"
    }
   ],
   "source": [
    "# Type of chest-pain by age-group\n",
    "\n",
    "sns.countplot(data = df,\n",
    "              x = 'age_group',\n",
    "              hue = 'cp')\n",
    "plt.title('chestpain by age-group\\n')\n",
    "\n",
    "pd.crosstab(df['cp'], df['age_group'], margins = True)"
   ]
  },
  {
   "cell_type": "code",
   "execution_count": 50,
   "id": "990fe56b",
   "metadata": {},
   "outputs": [
    {
     "data": {
      "text/html": [
       "<div>\n",
       "<style scoped>\n",
       "    .dataframe tbody tr th:only-of-type {\n",
       "        vertical-align: middle;\n",
       "    }\n",
       "\n",
       "    .dataframe tbody tr th {\n",
       "        vertical-align: top;\n",
       "    }\n",
       "\n",
       "    .dataframe thead th {\n",
       "        text-align: right;\n",
       "    }\n",
       "</style>\n",
       "<table border=\"1\" class=\"dataframe\">\n",
       "  <thead>\n",
       "    <tr style=\"text-align: right;\">\n",
       "      <th>sex</th>\n",
       "      <th>female</th>\n",
       "      <th>male</th>\n",
       "      <th>All</th>\n",
       "    </tr>\n",
       "    <tr>\n",
       "      <th>cp</th>\n",
       "      <th></th>\n",
       "      <th></th>\n",
       "      <th></th>\n",
       "    </tr>\n",
       "  </thead>\n",
       "  <tbody>\n",
       "    <tr>\n",
       "      <th>typical angina</th>\n",
       "      <td>4</td>\n",
       "      <td>19</td>\n",
       "      <td>23</td>\n",
       "    </tr>\n",
       "    <tr>\n",
       "      <th>atypical angina</th>\n",
       "      <td>18</td>\n",
       "      <td>32</td>\n",
       "      <td>50</td>\n",
       "    </tr>\n",
       "    <tr>\n",
       "      <th>non-anginal pain</th>\n",
       "      <td>35</td>\n",
       "      <td>51</td>\n",
       "      <td>86</td>\n",
       "    </tr>\n",
       "    <tr>\n",
       "      <th>asymptomatic</th>\n",
       "      <td>40</td>\n",
       "      <td>104</td>\n",
       "      <td>144</td>\n",
       "    </tr>\n",
       "    <tr>\n",
       "      <th>All</th>\n",
       "      <td>97</td>\n",
       "      <td>206</td>\n",
       "      <td>303</td>\n",
       "    </tr>\n",
       "  </tbody>\n",
       "</table>\n",
       "</div>"
      ],
      "text/plain": [
       "sex               female  male  All\n",
       "cp                                 \n",
       "typical angina         4    19   23\n",
       "atypical angina       18    32   50\n",
       "non-anginal pain      35    51   86\n",
       "asymptomatic          40   104  144\n",
       "All                   97   206  303"
      ]
     },
     "execution_count": 50,
     "metadata": {},
     "output_type": "execute_result"
    },
    {
     "data": {
      "image/png": "[encoded data removed]",
      "text/plain": [
       "<Figure size 432x288 with 1 Axes>"
      ]
     },
     "metadata": {
      "needs_background": "light"
     },
     "output_type": "display_data"
    }
   ],
   "source": [
    "# Type of chest-pain by gender\n",
    "\n",
    "sns.countplot(data = df,\n",
    "              x = 'sex',\n",
    "              hue = 'cp')\n",
    "plt.title('chestpain by gender\\n')\n",
    "\n",
    "pd.crosstab(df['cp'], df['sex'], margins = True)"
   ]
  },
  {
   "cell_type": "code",
   "execution_count": 29,
   "id": "a125cd07",
   "metadata": {},
   "outputs": [
    {
     "data": {
      "text/html": [
       "<div>\n",
       "<style scoped>\n",
       "    .dataframe tbody tr th:only-of-type {\n",
       "        vertical-align: middle;\n",
       "    }\n",
       "\n",
       "    .dataframe tbody tr th {\n",
       "        vertical-align: top;\n",
       "    }\n",
       "\n",
       "    .dataframe thead th {\n",
       "        text-align: right;\n",
       "    }\n",
       "</style>\n",
       "<table border=\"1\" class=\"dataframe\">\n",
       "  <thead>\n",
       "    <tr style=\"text-align: right;\">\n",
       "      <th>age_group</th>\n",
       "      <th>below 45</th>\n",
       "      <th>45-60</th>\n",
       "      <th>above 60</th>\n",
       "      <th>All</th>\n",
       "    </tr>\n",
       "    <tr>\n",
       "      <th>Heart Disease</th>\n",
       "      <th></th>\n",
       "      <th></th>\n",
       "      <th></th>\n",
       "      <th></th>\n",
       "    </tr>\n",
       "  </thead>\n",
       "  <tbody>\n",
       "    <tr>\n",
       "      <th>absent</th>\n",
       "      <td>47</td>\n",
       "      <td>82</td>\n",
       "      <td>35</td>\n",
       "      <td>164</td>\n",
       "    </tr>\n",
       "    <tr>\n",
       "      <th>pesent</th>\n",
       "      <td>16</td>\n",
       "      <td>79</td>\n",
       "      <td>44</td>\n",
       "      <td>139</td>\n",
       "    </tr>\n",
       "    <tr>\n",
       "      <th>All</th>\n",
       "      <td>63</td>\n",
       "      <td>161</td>\n",
       "      <td>79</td>\n",
       "      <td>303</td>\n",
       "    </tr>\n",
       "  </tbody>\n",
       "</table>\n",
       "</div>"
      ],
      "text/plain": [
       "age_group      below 45  45-60  above 60  All\n",
       "Heart Disease                                \n",
       "absent               47     82        35  164\n",
       "pesent               16     79        44  139\n",
       "All                  63    161        79  303"
      ]
     },
     "execution_count": 29,
     "metadata": {},
     "output_type": "execute_result"
    },
    {
     "data": {
      "image/png": "[encoded data removed]",
      "text/plain": [
       "<Figure size 432x288 with 1 Axes>"
      ]
     },
     "metadata": {
      "needs_background": "light"
     },
     "output_type": "display_data"
    }
   ],
   "source": [
    "# Distribution of Age-group by disease\n",
    "\n",
    "sns.countplot(data = df,\n",
    "              x = 'age_group',\n",
    "              hue = 'Heart Disease')\n",
    "plt.title('disease by age-group\\n')\n",
    "\n",
    "pd.crosstab(df['Heart Disease'], df['age_group'], margins = True)"
   ]
  },
  {
   "cell_type": "markdown",
   "id": "2b4a6a85",
   "metadata": {},
   "source": [
    "#  The graph above shows that age really does play an important role in the presence of disease as patients below 35 years are least affected by heart disease."
   ]
  },
  {
   "cell_type": "code",
   "execution_count": 30,
   "id": "c0bdfc89",
   "metadata": {},
   "outputs": [
    {
     "data": {
      "text/html": [
       "<div>\n",
       "<style scoped>\n",
       "    .dataframe tbody tr th:only-of-type {\n",
       "        vertical-align: middle;\n",
       "    }\n",
       "\n",
       "    .dataframe tbody tr th {\n",
       "        vertical-align: top;\n",
       "    }\n",
       "\n",
       "    .dataframe thead th {\n",
       "        text-align: right;\n",
       "    }\n",
       "</style>\n",
       "<table border=\"1\" class=\"dataframe\">\n",
       "  <thead>\n",
       "    <tr style=\"text-align: right;\">\n",
       "      <th>Heart Disease</th>\n",
       "      <th>absent</th>\n",
       "      <th>pesent</th>\n",
       "      <th>All</th>\n",
       "    </tr>\n",
       "    <tr>\n",
       "      <th>sex</th>\n",
       "      <th></th>\n",
       "      <th></th>\n",
       "      <th></th>\n",
       "    </tr>\n",
       "  </thead>\n",
       "  <tbody>\n",
       "    <tr>\n",
       "      <th>female</th>\n",
       "      <td>72</td>\n",
       "      <td>25</td>\n",
       "      <td>97</td>\n",
       "    </tr>\n",
       "    <tr>\n",
       "      <th>male</th>\n",
       "      <td>92</td>\n",
       "      <td>114</td>\n",
       "      <td>206</td>\n",
       "    </tr>\n",
       "    <tr>\n",
       "      <th>All</th>\n",
       "      <td>164</td>\n",
       "      <td>139</td>\n",
       "      <td>303</td>\n",
       "    </tr>\n",
       "  </tbody>\n",
       "</table>\n",
       "</div>"
      ],
      "text/plain": [
       "Heart Disease  absent  pesent  All\n",
       "sex                               \n",
       "female             72      25   97\n",
       "male               92     114  206\n",
       "All               164     139  303"
      ]
     },
     "execution_count": 30,
     "metadata": {},
     "output_type": "execute_result"
    },
    {
     "data": {
      "image/png": "[encoded data removed]",
      "text/plain": [
       "<Figure size 432x288 with 1 Axes>"
      ]
     },
     "metadata": {
      "needs_background": "light"
     },
     "output_type": "display_data"
    }
   ],
   "source": [
    "# Disease by Gender\n",
    "\n",
    "sns.countplot(data = df,\n",
    "              x = 'sex',\n",
    "              hue = 'Heart Disease')\n",
    "plt.title('disease by gender')\n",
    "\n",
    "pd.crosstab(df['sex'], df['Heart Disease'], margins = True)"
   ]
  },
  {
   "cell_type": "markdown",
   "id": "a021338f",
   "metadata": {},
   "source": [
    "# According to the graph above, it is illustrated that men are at higher risk of having a heart disease, as the graph shows that men with heart disease are about four times the number of women with heart disease."
   ]
  },
  {
   "cell_type": "code",
   "execution_count": 31,
   "id": "b76bf380",
   "metadata": {},
   "outputs": [
    {
     "data": {
      "text/html": [
       "<div>\n",
       "<style scoped>\n",
       "    .dataframe tbody tr th:only-of-type {\n",
       "        vertical-align: middle;\n",
       "    }\n",
       "\n",
       "    .dataframe tbody tr th {\n",
       "        vertical-align: top;\n",
       "    }\n",
       "\n",
       "    .dataframe thead th {\n",
       "        text-align: right;\n",
       "    }\n",
       "</style>\n",
       "<table border=\"1\" class=\"dataframe\">\n",
       "  <thead>\n",
       "    <tr style=\"text-align: right;\">\n",
       "      <th>Heart Disease</th>\n",
       "      <th>absent</th>\n",
       "      <th>pesent</th>\n",
       "      <th>All</th>\n",
       "    </tr>\n",
       "    <tr>\n",
       "      <th>cp</th>\n",
       "      <th></th>\n",
       "      <th></th>\n",
       "      <th></th>\n",
       "    </tr>\n",
       "  </thead>\n",
       "  <tbody>\n",
       "    <tr>\n",
       "      <th>typical angina</th>\n",
       "      <td>16</td>\n",
       "      <td>7</td>\n",
       "      <td>23</td>\n",
       "    </tr>\n",
       "    <tr>\n",
       "      <th>atypical angina</th>\n",
       "      <td>41</td>\n",
       "      <td>9</td>\n",
       "      <td>50</td>\n",
       "    </tr>\n",
       "    <tr>\n",
       "      <th>non-anginal pain</th>\n",
       "      <td>68</td>\n",
       "      <td>18</td>\n",
       "      <td>86</td>\n",
       "    </tr>\n",
       "    <tr>\n",
       "      <th>asymptomatic</th>\n",
       "      <td>39</td>\n",
       "      <td>105</td>\n",
       "      <td>144</td>\n",
       "    </tr>\n",
       "    <tr>\n",
       "      <th>All</th>\n",
       "      <td>164</td>\n",
       "      <td>139</td>\n",
       "      <td>303</td>\n",
       "    </tr>\n",
       "  </tbody>\n",
       "</table>\n",
       "</div>"
      ],
      "text/plain": [
       "Heart Disease     absent  pesent  All\n",
       "cp                                   \n",
       "typical angina        16       7   23\n",
       "atypical angina       41       9   50\n",
       "non-anginal pain      68      18   86\n",
       "asymptomatic          39     105  144\n",
       "All                  164     139  303"
      ]
     },
     "execution_count": 31,
     "metadata": {},
     "output_type": "execute_result"
    },
    {
     "data": {
      "image/png": "[encoded data removed]",
      "text/plain": [
       "<Figure size 432x288 with 1 Axes>"
      ]
     },
     "metadata": {
      "needs_background": "light"
     },
     "output_type": "display_data"
    }
   ],
   "source": [
    "# Chest-pain by Disease\n",
    "\n",
    "sns.countplot(data = df,\n",
    "              x = 'cp',\n",
    "              hue = 'Heart Disease')\n",
    "plt.title('type of chest pains\\n')\n",
    "\n",
    "pd.crosstab(df['cp'], df['Heart Disease'], margins = True)"
   ]
  },
  {
   "cell_type": "markdown",
   "id": "cdfa1cab",
   "metadata": {},
   "source": [
    "# The data shows that patients with asymptomatic are more prone to suffer from heart disease and its matter of concern."
   ]
  },
  {
   "cell_type": "code",
   "execution_count": 32,
   "id": "5f6730bb",
   "metadata": {},
   "outputs": [
    {
     "data": {
      "text/html": [
       "<div>\n",
       "<style scoped>\n",
       "    .dataframe tbody tr th:only-of-type {\n",
       "        vertical-align: middle;\n",
       "    }\n",
       "\n",
       "    .dataframe tbody tr th {\n",
       "        vertical-align: top;\n",
       "    }\n",
       "\n",
       "    .dataframe thead th {\n",
       "        text-align: right;\n",
       "    }\n",
       "</style>\n",
       "<table border=\"1\" class=\"dataframe\">\n",
       "  <thead>\n",
       "    <tr style=\"text-align: right;\">\n",
       "      <th>Heart Disease</th>\n",
       "      <th>absent</th>\n",
       "      <th>pesent</th>\n",
       "      <th>All</th>\n",
       "    </tr>\n",
       "    <tr>\n",
       "      <th>fbs</th>\n",
       "      <th></th>\n",
       "      <th></th>\n",
       "      <th></th>\n",
       "    </tr>\n",
       "  </thead>\n",
       "  <tbody>\n",
       "    <tr>\n",
       "      <th>below 120mg/dl</th>\n",
       "      <td>141</td>\n",
       "      <td>117</td>\n",
       "      <td>258</td>\n",
       "    </tr>\n",
       "    <tr>\n",
       "      <th>above 120 mg/dl</th>\n",
       "      <td>23</td>\n",
       "      <td>22</td>\n",
       "      <td>45</td>\n",
       "    </tr>\n",
       "    <tr>\n",
       "      <th>All</th>\n",
       "      <td>164</td>\n",
       "      <td>139</td>\n",
       "      <td>303</td>\n",
       "    </tr>\n",
       "  </tbody>\n",
       "</table>\n",
       "</div>"
      ],
      "text/plain": [
       "Heart Disease    absent  pesent  All\n",
       "fbs                                 \n",
       "below 120mg/dl      141     117  258\n",
       "above 120 mg/dl      23      22   45\n",
       "All                 164     139  303"
      ]
     },
     "execution_count": 32,
     "metadata": {},
     "output_type": "execute_result"
    },
    {
     "data": {
      "image/png": "[encoded data removed]",
      "text/plain": [
       "<Figure size 432x288 with 1 Axes>"
      ]
     },
     "metadata": {
      "needs_background": "light"
     },
     "output_type": "display_data"
    }
   ],
   "source": [
    "# fasting-blood sugar by Disease\n",
    "\n",
    "sns.countplot(data = df,\n",
    "              x = 'fbs',\n",
    "              hue = 'Heart Disease')\n",
    "plt.title('fasting blood sugar \\n')\n",
    "\n",
    "pd.crosstab(df['fbs'], df['Heart Disease'], margins = True)"
   ]
  },
  {
   "cell_type": "markdown",
   "id": "01a8dfe9",
   "metadata": {},
   "source": [
    "# The fasting blood glucose of the patients doesn't seem to follow expectations as individuals with FBG below 120mg/dl seem to have more patients with the disease than patients with glucose level above 120mg/dl."
   ]
  },
  {
   "cell_type": "code",
   "execution_count": 33,
   "id": "092dae0b",
   "metadata": {},
   "outputs": [
    {
     "data": {
      "text/html": [
       "<div>\n",
       "<style scoped>\n",
       "    .dataframe tbody tr th:only-of-type {\n",
       "        vertical-align: middle;\n",
       "    }\n",
       "\n",
       "    .dataframe tbody tr th {\n",
       "        vertical-align: top;\n",
       "    }\n",
       "\n",
       "    .dataframe thead th {\n",
       "        text-align: right;\n",
       "    }\n",
       "</style>\n",
       "<table border=\"1\" class=\"dataframe\">\n",
       "  <thead>\n",
       "    <tr style=\"text-align: right;\">\n",
       "      <th>Heart Disease</th>\n",
       "      <th>absent</th>\n",
       "      <th>pesent</th>\n",
       "      <th>All</th>\n",
       "    </tr>\n",
       "    <tr>\n",
       "      <th>restecg</th>\n",
       "      <th></th>\n",
       "      <th></th>\n",
       "      <th></th>\n",
       "    </tr>\n",
       "  </thead>\n",
       "  <tbody>\n",
       "    <tr>\n",
       "      <th>normal</th>\n",
       "      <td>95</td>\n",
       "      <td>56</td>\n",
       "      <td>151</td>\n",
       "    </tr>\n",
       "    <tr>\n",
       "      <th>abnormality</th>\n",
       "      <td>1</td>\n",
       "      <td>3</td>\n",
       "      <td>4</td>\n",
       "    </tr>\n",
       "    <tr>\n",
       "      <th>hypertrophy</th>\n",
       "      <td>68</td>\n",
       "      <td>80</td>\n",
       "      <td>148</td>\n",
       "    </tr>\n",
       "    <tr>\n",
       "      <th>All</th>\n",
       "      <td>164</td>\n",
       "      <td>139</td>\n",
       "      <td>303</td>\n",
       "    </tr>\n",
       "  </tbody>\n",
       "</table>\n",
       "</div>"
      ],
      "text/plain": [
       "Heart Disease  absent  pesent  All\n",
       "restecg                           \n",
       "normal             95      56  151\n",
       "abnormality         1       3    4\n",
       "hypertrophy        68      80  148\n",
       "All               164     139  303"
      ]
     },
     "execution_count": 33,
     "metadata": {},
     "output_type": "execute_result"
    },
    {
     "data": {
      "image/png": "[encoded data removed]",
      "text/plain": [
       "<Figure size 432x288 with 1 Axes>"
      ]
     },
     "metadata": {
      "needs_background": "light"
     },
     "output_type": "display_data"
    }
   ],
   "source": [
    "# resting ecg by dissease\n",
    "\n",
    "sns.countplot(data = df,\n",
    "              x = 'restecg',\n",
    "              hue = 'Heart Disease')\n",
    "plt.title('resting ecg \\n')\n",
    "\n",
    "pd.crosstab(df['restecg'], df['Heart Disease'], margins = True)"
   ]
  },
  {
   "cell_type": "markdown",
   "id": "6ebd6186",
   "metadata": {},
   "source": [
    "# The patients with hypertrophy contribute to the highest number of patients with heart disease."
   ]
  },
  {
   "cell_type": "code",
   "execution_count": 34,
   "id": "6f9c2952",
   "metadata": {},
   "outputs": [
    {
     "data": {
      "text/html": [
       "<div>\n",
       "<style scoped>\n",
       "    .dataframe tbody tr th:only-of-type {\n",
       "        vertical-align: middle;\n",
       "    }\n",
       "\n",
       "    .dataframe tbody tr th {\n",
       "        vertical-align: top;\n",
       "    }\n",
       "\n",
       "    .dataframe thead th {\n",
       "        text-align: right;\n",
       "    }\n",
       "</style>\n",
       "<table border=\"1\" class=\"dataframe\">\n",
       "  <thead>\n",
       "    <tr style=\"text-align: right;\">\n",
       "      <th>Heart Disease</th>\n",
       "      <th>absent</th>\n",
       "      <th>pesent</th>\n",
       "      <th>All</th>\n",
       "    </tr>\n",
       "    <tr>\n",
       "      <th>exang</th>\n",
       "      <th></th>\n",
       "      <th></th>\n",
       "      <th></th>\n",
       "    </tr>\n",
       "  </thead>\n",
       "  <tbody>\n",
       "    <tr>\n",
       "      <th>no</th>\n",
       "      <td>141</td>\n",
       "      <td>63</td>\n",
       "      <td>204</td>\n",
       "    </tr>\n",
       "    <tr>\n",
       "      <th>yes</th>\n",
       "      <td>23</td>\n",
       "      <td>76</td>\n",
       "      <td>99</td>\n",
       "    </tr>\n",
       "    <tr>\n",
       "      <th>All</th>\n",
       "      <td>164</td>\n",
       "      <td>139</td>\n",
       "      <td>303</td>\n",
       "    </tr>\n",
       "  </tbody>\n",
       "</table>\n",
       "</div>"
      ],
      "text/plain": [
       "Heart Disease  absent  pesent  All\n",
       "exang                             \n",
       "no                141      63  204\n",
       "yes                23      76   99\n",
       "All               164     139  303"
      ]
     },
     "execution_count": 34,
     "metadata": {},
     "output_type": "execute_result"
    },
    {
     "data": {
      "image/png": "[encoded data removed]",
      "text/plain": [
       "<Figure size 432x288 with 1 Axes>"
      ]
     },
     "metadata": {
      "needs_background": "light"
     },
     "output_type": "display_data"
    }
   ],
   "source": [
    "# exercise induced angina by disease\n",
    "\n",
    "sns.countplot(data = df,\n",
    "              x = 'exang',\n",
    "              hue = 'Heart Disease')\n",
    "plt.title('excercise induced angina \\n')\n",
    "\n",
    "pd.crosstab(df['exang'], df['Heart Disease'], margins = True)"
   ]
  },
  {
   "cell_type": "markdown",
   "id": "87a944d3",
   "metadata": {},
   "source": [
    "# Exercise induced angina also known as stable angina, is usually triggered by physical activity like climbing the stairs. Physical activity causes the heart to demand more blood, but narrowed arteries slow down blood flow resulting in chest pain. The graph above explains that the patients that experienced exercise induced angina have a higher ratio of heart disease than patients that did not experience exercise induced angina."
   ]
  },
  {
   "cell_type": "code",
   "execution_count": 51,
   "id": "f59bb50a",
   "metadata": {},
   "outputs": [
    {
     "data": {
      "text/html": [
       "<div>\n",
       "<style scoped>\n",
       "    .dataframe tbody tr th:only-of-type {\n",
       "        vertical-align: middle;\n",
       "    }\n",
       "\n",
       "    .dataframe tbody tr th {\n",
       "        vertical-align: top;\n",
       "    }\n",
       "\n",
       "    .dataframe thead th {\n",
       "        text-align: right;\n",
       "    }\n",
       "</style>\n",
       "<table border=\"1\" class=\"dataframe\">\n",
       "  <thead>\n",
       "    <tr style=\"text-align: right;\">\n",
       "      <th>sex</th>\n",
       "      <th>female</th>\n",
       "      <th>male</th>\n",
       "      <th>All</th>\n",
       "    </tr>\n",
       "    <tr>\n",
       "      <th>exang</th>\n",
       "      <th></th>\n",
       "      <th></th>\n",
       "      <th></th>\n",
       "    </tr>\n",
       "  </thead>\n",
       "  <tbody>\n",
       "    <tr>\n",
       "      <th>no</th>\n",
       "      <td>75</td>\n",
       "      <td>129</td>\n",
       "      <td>204</td>\n",
       "    </tr>\n",
       "    <tr>\n",
       "      <th>yes</th>\n",
       "      <td>22</td>\n",
       "      <td>77</td>\n",
       "      <td>99</td>\n",
       "    </tr>\n",
       "    <tr>\n",
       "      <th>All</th>\n",
       "      <td>97</td>\n",
       "      <td>206</td>\n",
       "      <td>303</td>\n",
       "    </tr>\n",
       "  </tbody>\n",
       "</table>\n",
       "</div>"
      ],
      "text/plain": [
       "sex    female  male  All\n",
       "exang                   \n",
       "no         75   129  204\n",
       "yes        22    77   99\n",
       "All        97   206  303"
      ]
     },
     "execution_count": 51,
     "metadata": {},
     "output_type": "execute_result"
    },
    {
     "data": {
      "image/png": "[encoded data removed]",
      "text/plain": [
       "<Figure size 432x288 with 1 Axes>"
      ]
     },
     "metadata": {
      "needs_background": "light"
     },
     "output_type": "display_data"
    }
   ],
   "source": [
    "# exercise induced angina by gender\n",
    "\n",
    "sns.countplot(data = df,\n",
    "              x = 'exang',\n",
    "              hue = 'sex')\n",
    "plt.title('excercise induced angina by gender \\n')\n",
    "\n",
    "pd.crosstab(df['exang'], df['sex'], margins = True)"
   ]
  },
  {
   "cell_type": "code",
   "execution_count": 35,
   "id": "de91984f",
   "metadata": {},
   "outputs": [
    {
     "data": {
      "text/html": [
       "<div>\n",
       "<style scoped>\n",
       "    .dataframe tbody tr th:only-of-type {\n",
       "        vertical-align: middle;\n",
       "    }\n",
       "\n",
       "    .dataframe tbody tr th {\n",
       "        vertical-align: top;\n",
       "    }\n",
       "\n",
       "    .dataframe thead th {\n",
       "        text-align: right;\n",
       "    }\n",
       "</style>\n",
       "<table border=\"1\" class=\"dataframe\">\n",
       "  <thead>\n",
       "    <tr style=\"text-align: right;\">\n",
       "      <th>Heart Disease</th>\n",
       "      <th>absent</th>\n",
       "      <th>pesent</th>\n",
       "      <th>All</th>\n",
       "    </tr>\n",
       "    <tr>\n",
       "      <th>slope</th>\n",
       "      <th></th>\n",
       "      <th></th>\n",
       "      <th></th>\n",
       "    </tr>\n",
       "  </thead>\n",
       "  <tbody>\n",
       "    <tr>\n",
       "      <th>upsloping</th>\n",
       "      <td>106</td>\n",
       "      <td>36</td>\n",
       "      <td>142</td>\n",
       "    </tr>\n",
       "    <tr>\n",
       "      <th>flat</th>\n",
       "      <td>49</td>\n",
       "      <td>91</td>\n",
       "      <td>140</td>\n",
       "    </tr>\n",
       "    <tr>\n",
       "      <th>downsloping</th>\n",
       "      <td>9</td>\n",
       "      <td>12</td>\n",
       "      <td>21</td>\n",
       "    </tr>\n",
       "    <tr>\n",
       "      <th>All</th>\n",
       "      <td>164</td>\n",
       "      <td>139</td>\n",
       "      <td>303</td>\n",
       "    </tr>\n",
       "  </tbody>\n",
       "</table>\n",
       "</div>"
      ],
      "text/plain": [
       "Heart Disease  absent  pesent  All\n",
       "slope                             \n",
       "upsloping         106      36  142\n",
       "flat               49      91  140\n",
       "downsloping         9      12   21\n",
       "All               164     139  303"
      ]
     },
     "execution_count": 35,
     "metadata": {},
     "output_type": "execute_result"
    },
    {
     "data": {
      "image/png": "[encoded data removed]",
      "text/plain": [
       "<Figure size 432x288 with 1 Axes>"
      ]
     },
     "metadata": {
      "needs_background": "light"
     },
     "output_type": "display_data"
    }
   ],
   "source": [
    "sns.countplot(data = df,\n",
    "              x = 'slope',\n",
    "              hue = 'Heart Disease')\n",
    "plt.title('slope of the peak exercise \\n')\n",
    "\n",
    "pd.crosstab(df['slope'], df['Heart Disease'], margins = True)"
   ]
  },
  {
   "cell_type": "markdown",
   "id": "3d094585",
   "metadata": {},
   "source": [
    "# The graph above shows patient with flat and downsloping have higher number of patient with disease."
   ]
  },
  {
   "cell_type": "code",
   "execution_count": 36,
   "id": "89c69d55",
   "metadata": {},
   "outputs": [
    {
     "data": {
      "text/html": [
       "<div>\n",
       "<style scoped>\n",
       "    .dataframe tbody tr th:only-of-type {\n",
       "        vertical-align: middle;\n",
       "    }\n",
       "\n",
       "    .dataframe tbody tr th {\n",
       "        vertical-align: top;\n",
       "    }\n",
       "\n",
       "    .dataframe thead th {\n",
       "        text-align: right;\n",
       "    }\n",
       "</style>\n",
       "<table border=\"1\" class=\"dataframe\">\n",
       "  <thead>\n",
       "    <tr style=\"text-align: right;\">\n",
       "      <th>Heart Disease</th>\n",
       "      <th>absent</th>\n",
       "      <th>pesent</th>\n",
       "      <th>All</th>\n",
       "    </tr>\n",
       "    <tr>\n",
       "      <th>ca</th>\n",
       "      <th></th>\n",
       "      <th></th>\n",
       "      <th></th>\n",
       "    </tr>\n",
       "  </thead>\n",
       "  <tbody>\n",
       "    <tr>\n",
       "      <th>0</th>\n",
       "      <td>133</td>\n",
       "      <td>47</td>\n",
       "      <td>180</td>\n",
       "    </tr>\n",
       "    <tr>\n",
       "      <th>1</th>\n",
       "      <td>21</td>\n",
       "      <td>44</td>\n",
       "      <td>65</td>\n",
       "    </tr>\n",
       "    <tr>\n",
       "      <th>2</th>\n",
       "      <td>7</td>\n",
       "      <td>31</td>\n",
       "      <td>38</td>\n",
       "    </tr>\n",
       "    <tr>\n",
       "      <th>3</th>\n",
       "      <td>3</td>\n",
       "      <td>17</td>\n",
       "      <td>20</td>\n",
       "    </tr>\n",
       "    <tr>\n",
       "      <th>All</th>\n",
       "      <td>164</td>\n",
       "      <td>139</td>\n",
       "      <td>303</td>\n",
       "    </tr>\n",
       "  </tbody>\n",
       "</table>\n",
       "</div>"
      ],
      "text/plain": [
       "Heart Disease  absent  pesent  All\n",
       "ca                                \n",
       "0                 133      47  180\n",
       "1                  21      44   65\n",
       "2                   7      31   38\n",
       "3                   3      17   20\n",
       "All               164     139  303"
      ]
     },
     "execution_count": 36,
     "metadata": {},
     "output_type": "execute_result"
    },
    {
     "data": {
      "image/png": "[encoded data removed]",
      "text/plain": [
       "<Figure size 432x288 with 1 Axes>"
      ]
     },
     "metadata": {
      "needs_background": "light"
     },
     "output_type": "display_data"
    }
   ],
   "source": [
    "sns.countplot(data = df,\n",
    "             x = 'ca', \n",
    "             hue = 'Heart Disease')\n",
    "plt.title('number of vessels coloured by fluroscopy \\n')\n",
    "\n",
    "pd.crosstab(df['ca'], df['Heart Disease'], margins = True)"
   ]
  },
  {
   "cell_type": "markdown",
   "id": "6260c959",
   "metadata": {},
   "source": [
    "# Colored blood vessels signify narrowed artery, that is why as shown by the graph, increase in the colored blood vessels result in higher likelihood to have a heart disease."
   ]
  },
  {
   "cell_type": "code",
   "execution_count": 37,
   "id": "d91fe2a7",
   "metadata": {},
   "outputs": [
    {
     "data": {
      "text/html": [
       "<div>\n",
       "<style scoped>\n",
       "    .dataframe tbody tr th:only-of-type {\n",
       "        vertical-align: middle;\n",
       "    }\n",
       "\n",
       "    .dataframe tbody tr th {\n",
       "        vertical-align: top;\n",
       "    }\n",
       "\n",
       "    .dataframe thead th {\n",
       "        text-align: right;\n",
       "    }\n",
       "</style>\n",
       "<table border=\"1\" class=\"dataframe\">\n",
       "  <thead>\n",
       "    <tr style=\"text-align: right;\">\n",
       "      <th>Heart Disease</th>\n",
       "      <th>absent</th>\n",
       "      <th>pesent</th>\n",
       "      <th>All</th>\n",
       "    </tr>\n",
       "    <tr>\n",
       "      <th>thal</th>\n",
       "      <th></th>\n",
       "      <th></th>\n",
       "      <th></th>\n",
       "    </tr>\n",
       "  </thead>\n",
       "  <tbody>\n",
       "    <tr>\n",
       "      <th>normal</th>\n",
       "      <td>130</td>\n",
       "      <td>38</td>\n",
       "      <td>168</td>\n",
       "    </tr>\n",
       "    <tr>\n",
       "      <th>fixed defect</th>\n",
       "      <td>6</td>\n",
       "      <td>12</td>\n",
       "      <td>18</td>\n",
       "    </tr>\n",
       "    <tr>\n",
       "      <th>reversable defect</th>\n",
       "      <td>28</td>\n",
       "      <td>89</td>\n",
       "      <td>117</td>\n",
       "    </tr>\n",
       "    <tr>\n",
       "      <th>All</th>\n",
       "      <td>164</td>\n",
       "      <td>139</td>\n",
       "      <td>303</td>\n",
       "    </tr>\n",
       "  </tbody>\n",
       "</table>\n",
       "</div>"
      ],
      "text/plain": [
       "Heart Disease      absent  pesent  All\n",
       "thal                                  \n",
       "normal                130      38  168\n",
       "fixed defect            6      12   18\n",
       "reversable defect      28      89  117\n",
       "All                   164     139  303"
      ]
     },
     "execution_count": 37,
     "metadata": {},
     "output_type": "execute_result"
    },
    {
     "data": {
      "image/png": "[encoded data removed]",
      "text/plain": [
       "<Figure size 432x288 with 1 Axes>"
      ]
     },
     "metadata": {
      "needs_background": "light"
     },
     "output_type": "display_data"
    }
   ],
   "source": [
    "sns.countplot(data = df,\n",
    "              x = 'thal',\n",
    "              hue = 'Heart Disease')\n",
    "plt.title('thallium type \\n')\n",
    "\n",
    "pd.crosstab(df['thal'], df['Heart Disease'], margins = True)"
   ]
  },
  {
   "cell_type": "markdown",
   "id": "3444521e",
   "metadata": {},
   "source": [
    "#  Result from the thallium test show that patients with defect whether reversible or fixed were more likely to have a heart disease than patients with normal blood flow."
   ]
  },
  {
   "cell_type": "code",
   "execution_count": 90,
   "id": "9c508080",
   "metadata": {},
   "outputs": [
    {
     "data": {
      "image/png": "[encoded data removed]",
      "text/plain": [
       "<Figure size 432x288 with 1 Axes>"
      ]
     },
     "metadata": {
      "needs_background": "light"
     },
     "output_type": "display_data"
    }
   ],
   "source": [
    "sns.lineplot(x='age', y='trestbps', data=df, color='r')\n",
    "plt.title('Blood Pressure VS Age', fontsize=17)\n",
    "plt.xlabel('Age', fontsize=15)\n",
    "plt.ylabel('Blood Pressure', fontsize=15)\n",
    "plt.show()"
   ]
  },
  {
   "cell_type": "code",
   "execution_count": 91,
   "id": "d09e38ec",
   "metadata": {},
   "outputs": [
    {
     "data": {
      "image/png": "[encoded data removed]",
      "text/plain": [
       "<Figure size 432x288 with 1 Axes>"
      ]
     },
     "metadata": {
      "needs_background": "light"
     },
     "output_type": "display_data"
    }
   ],
   "source": [
    "sns.lineplot(x='age', y='chol', data=df, color='g')\n",
    "plt.title('Cholesterol VS Age', fontsize=17)\n",
    "plt.xlabel('Age', fontsize=15)\n",
    "plt.ylabel('Cholesterol', fontsize=15)\n",
    "plt.show()"
   ]
  },
  {
   "cell_type": "code",
   "execution_count": 38,
   "id": "110f1b63",
   "metadata": {},
   "outputs": [
    {
     "data": {
      "text/plain": [
       "Text(0.5, 1.0, 'boxplot for age vs target')"
      ]
     },
     "execution_count": 38,
     "metadata": {},
     "output_type": "execute_result"
    },
    {
     "data": {
      "image/png": "[encoded data removed]",
      "text/plain": [
       "<Figure size 432x288 with 1 Axes>"
      ]
     },
     "metadata": {
      "needs_background": "light"
     },
     "output_type": "display_data"
    }
   ],
   "source": [
    "# boxplot\n",
    "sns.boxplot(data = df, \n",
    "            x = 'Heart Disease',\n",
    "            y = 'age')\n",
    "plt.title('boxplot for age vs target')"
   ]
  },
  {
   "cell_type": "code",
   "execution_count": 39,
   "id": "ebe39cc2",
   "metadata": {},
   "outputs": [
    {
     "data": {
      "text/plain": [
       "Text(0.5, 1.0, 'boxplot for trestbps vs target')"
      ]
     },
     "execution_count": 39,
     "metadata": {},
     "output_type": "execute_result"
    },
    {
     "data": {
      "image/png": "[encoded data removed]",
      "text/plain": [
       "<Figure size 432x288 with 1 Axes>"
      ]
     },
     "metadata": {
      "needs_background": "light"
     },
     "output_type": "display_data"
    }
   ],
   "source": [
    "sns.boxplot(data = df,\n",
    "            x = 'Heart Disease',\n",
    "            y = 'trestbps')\n",
    "plt.title('boxplot for trestbps vs target')"
   ]
  },
  {
   "cell_type": "code",
   "execution_count": 40,
   "id": "d398c038",
   "metadata": {},
   "outputs": [
    {
     "data": {
      "text/plain": [
       "<AxesSubplot:xlabel='Heart Disease', ylabel='chol'>"
      ]
     },
     "execution_count": 40,
     "metadata": {},
     "output_type": "execute_result"
    },
    {
     "data": {
      "image/png": "[encoded data removed]",
      "text/plain": [
       "<Figure size 432x288 with 1 Axes>"
      ]
     },
     "metadata": {
      "needs_background": "light"
     },
     "output_type": "display_data"
    }
   ],
   "source": [
    "sns.boxplot(data = df,\n",
    "            y = 'chol', \n",
    "            x = 'Heart Disease')"
   ]
  },
  {
   "cell_type": "code",
   "execution_count": 41,
   "id": "91873a89",
   "metadata": {},
   "outputs": [
    {
     "data": {
      "text/plain": [
       "<AxesSubplot:xlabel='Heart Disease', ylabel='thalach'>"
      ]
     },
     "execution_count": 41,
     "metadata": {},
     "output_type": "execute_result"
    },
    {
     "data": {
      "image/png": "[encoded data removed]",
      "text/plain": [
       "<Figure size 432x288 with 1 Axes>"
      ]
     },
     "metadata": {
      "needs_background": "light"
     },
     "output_type": "display_data"
    }
   ],
   "source": [
    "sns.boxplot(data = df,\n",
    "            x = 'Heart Disease',\n",
    "            y = 'thalach')"
   ]
  },
  {
   "cell_type": "code",
   "execution_count": 49,
   "id": "89b890a7",
   "metadata": {},
   "outputs": [
    {
     "data": {
      "text/plain": [
       "Text(0.5, 1.0, 'age distribution')"
      ]
     },
     "execution_count": 49,
     "metadata": {},
     "output_type": "execute_result"
    },
    {
     "data": {
      "text/plain": [
       "<Figure size 1440x1080 with 0 Axes>"
      ]
     },
     "metadata": {},
     "output_type": "display_data"
    },
    {
     "data": {
      "image/png": "[encoded data removed]",
      "text/plain": [
       "<Figure size 360x360 with 1 Axes>"
      ]
     },
     "metadata": {
      "needs_background": "light"
     },
     "output_type": "display_data"
    }
   ],
   "source": [
    "# distribution plot-age\n",
    "\n",
    "plt.figure(figsize=(20,15))\n",
    "sns.displot(df['age'], kde = False)\n",
    "plt.title('age distribution')"
   ]
  },
  {
   "cell_type": "code",
   "execution_count": 42,
   "id": "3e588801",
   "metadata": {},
   "outputs": [
    {
     "data": {
      "text/plain": [
       "Text(0.5, 1.0, 'age distribution of heart disease patients')"
      ]
     },
     "execution_count": 42,
     "metadata": {},
     "output_type": "execute_result"
    },
    {
     "data": {
      "text/plain": [
       "<Figure size 1152x720 with 0 Axes>"
      ]
     },
     "metadata": {},
     "output_type": "display_data"
    },
    {
     "data": {
      "image/png": "[encoded data removed]",
      "text/plain": [
       "<Figure size 360x360 with 1 Axes>"
      ]
     },
     "metadata": {
      "needs_background": "light"
     },
     "output_type": "display_data"
    }
   ],
   "source": [
    "# distribution plot\n",
    "\n",
    "plt.figure(figsize=(16,10))\n",
    "sns.displot(df[df['Heart Disease']=='pesent']['age_group'], kde = False)\n",
    "plt.title('age distribution of heart disease patients')"
   ]
  },
  {
   "cell_type": "code",
   "execution_count": 43,
   "id": "dac148a0",
   "metadata": {},
   "outputs": [
    {
     "data": {
      "text/plain": [
       "Text(0.5, 1.0, 'age distribution of no heart disease patients')"
      ]
     },
     "execution_count": 43,
     "metadata": {},
     "output_type": "execute_result"
    },
    {
     "data": {
      "text/plain": [
       "<Figure size 1152x720 with 0 Axes>"
      ]
     },
     "metadata": {},
     "output_type": "display_data"
    },
    {
     "data": {
      "image/png": "[encoded data removed]",
      "text/plain": [
       "<Figure size 360x360 with 1 Axes>"
      ]
     },
     "metadata": {
      "needs_background": "light"
     },
     "output_type": "display_data"
    }
   ],
   "source": [
    "# distribution plot\n",
    "\n",
    "plt.figure(figsize=(16,10))\n",
    "sns.displot(df[df['Heart Disease']=='absent']['age_group'], kde = False)\n",
    "plt.title('age distribution of no heart disease patients')"
   ]
  },
  {
   "cell_type": "code",
   "execution_count": 44,
   "id": "ee1b6b22",
   "metadata": {},
   "outputs": [
    {
     "data": {
      "text/plain": [
       "Text(0.5, 1.0, 'age distribution of no heart disease patients')"
      ]
     },
     "execution_count": 44,
     "metadata": {},
     "output_type": "execute_result"
    },
    {
     "data": {
      "text/plain": [
       "<Figure size 1152x720 with 0 Axes>"
      ]
     },
     "metadata": {},
     "output_type": "display_data"
    },
    {
     "data": {
      "image/png": "[encoded data removed]",
      "text/plain": [
       "<Figure size 360x360 with 1 Axes>"
      ]
     },
     "metadata": {
      "needs_background": "light"
     },
     "output_type": "display_data"
    }
   ],
   "source": [
    "# distribution plot\n",
    "\n",
    "plt.figure(figsize=(16,10))\n",
    "sns.displot(df[df['Heart Disease']=='absent']['age'], kde = False, bins = 10)\n",
    "plt.title('age distribution of no heart disease patients')"
   ]
  },
  {
   "cell_type": "code",
   "execution_count": 45,
   "id": "7f5da0ef",
   "metadata": {},
   "outputs": [
    {
     "data": {
      "text/plain": [
       "Text(0.5, 1.0, 'chol distribution of normal heart patients')"
      ]
     },
     "execution_count": 45,
     "metadata": {},
     "output_type": "execute_result"
    },
    {
     "data": {
      "text/plain": [
       "<Figure size 1152x720 with 0 Axes>"
      ]
     },
     "metadata": {},
     "output_type": "display_data"
    },
    {
     "data": {
      "image/png": "[encoded data removed]",
      "text/plain": [
       "<Figure size 360x360 with 1 Axes>"
      ]
     },
     "metadata": {
      "needs_background": "light"
     },
     "output_type": "display_data"
    }
   ],
   "source": [
    "# distribution plot\n",
    "plt.figure(figsize=(16,10))\n",
    "sns.displot(df[df['Heart Disease']=='absent']['chol'], kde = False, bins = 10)\n",
    "plt.title('chol distribution of normal heart patients')"
   ]
  },
  {
   "cell_type": "code",
   "execution_count": 46,
   "id": "fc1f3ddc",
   "metadata": {},
   "outputs": [
    {
     "data": {
      "text/plain": [
       "<seaborn.axisgrid.JointGrid at 0x2b6ac716ca0>"
      ]
     },
     "execution_count": 46,
     "metadata": {},
     "output_type": "execute_result"
    },
    {
     "data": {
      "image/png": "[encoded data removed]",
      "text/plain": [
       "<Figure size 432x432 with 3 Axes>"
      ]
     },
     "metadata": {
      "needs_background": "light"
     },
     "output_type": "display_data"
    }
   ],
   "source": [
    "# jointplot\n",
    "sns.jointplot(data = df, x = 'age', y = 'chol', kind = 'hex', cmap = 'Reds')"
   ]
  },
  {
   "cell_type": "code",
   "execution_count": 47,
   "id": "8bbedc4b",
   "metadata": {},
   "outputs": [
    {
     "data": {
      "text/plain": [
       "<seaborn.axisgrid.JointGrid at 0x2b6ac514700>"
      ]
     },
     "execution_count": 47,
     "metadata": {},
     "output_type": "execute_result"
    },
    {
     "data": {
      "image/png": "[encoded data removed]",
      "text/plain": [
       "<Figure size 432x432 with 3 Axes>"
      ]
     },
     "metadata": {
      "needs_background": "light"
     },
     "output_type": "display_data"
    }
   ],
   "source": [
    "# jointplot\n",
    "sns.jointplot(data = df, x = 'age', y = 'trestbps', kind = 'hex', cmap = 'Reds')"
   ]
  },
  {
   "cell_type": "code",
   "execution_count": 48,
   "id": "b11c1daf",
   "metadata": {},
   "outputs": [
    {
     "data": {
      "text/plain": [
       "<seaborn.axisgrid.JointGrid at 0x2b6ac8efe50>"
      ]
     },
     "execution_count": 48,
     "metadata": {},
     "output_type": "execute_result"
    },
    {
     "data": {
      "image/png": "[encoded data removed]",
      "text/plain": [
       "<Figure size 432x432 with 3 Axes>"
      ]
     },
     "metadata": {
      "needs_background": "light"
     },
     "output_type": "display_data"
    }
   ],
   "source": [
    "# jointplot\n",
    "sns.jointplot(data = df, x = 'age', y = 'thalach', kind = 'hex', cmap = 'Reds')"
   ]
  },
  {
   "cell_type": "code",
   "execution_count": 49,
   "id": "989d9513",
   "metadata": {},
   "outputs": [
    {
     "data": {
      "text/plain": [
       "<seaborn.axisgrid.JointGrid at 0x2b6adb2db80>"
      ]
     },
     "execution_count": 49,
     "metadata": {},
     "output_type": "execute_result"
    },
    {
     "data": {
      "image/png": "[encoded data removed]",
      "text/plain": [
       "<Figure size 432x432 with 3 Axes>"
      ]
     },
     "metadata": {
      "needs_background": "light"
     },
     "output_type": "display_data"
    }
   ],
   "source": [
    "# jointplot\n",
    "sns.jointplot(data = df, x = 'age', y = 'oldpeak', kind = 'hex', cmap = 'Reds')"
   ]
  },
  {
   "cell_type": "code",
   "execution_count": 50,
   "id": "5a601f33",
   "metadata": {},
   "outputs": [
    {
     "data": {
      "text/plain": [
       "<seaborn.axisgrid.PairGrid at 0x2b6adc625b0>"
      ]
     },
     "execution_count": 50,
     "metadata": {},
     "output_type": "execute_result"
    },
    {
     "data": {
      "image/png": "[encoded data removed]",
      "text/plain": [
       "<Figure size 1152x288 with 4 Axes>"
      ]
     },
     "metadata": {
      "needs_background": "light"
     },
     "output_type": "display_data"
    }
   ],
   "source": [
    "# pairrplot\n",
    "sns.pairplot(data = df, x_vars = ['trestbps', 'chol', 'thalach', 'oldpeak'], y_vars = 'age', height=4, kind='scatter')"
   ]
  },
  {
   "cell_type": "code",
   "execution_count": 51,
   "id": "2d96b18e",
   "metadata": {},
   "outputs": [
    {
     "data": {
      "text/html": [
       "<div>\n",
       "<style scoped>\n",
       "    .dataframe tbody tr th:only-of-type {\n",
       "        vertical-align: middle;\n",
       "    }\n",
       "\n",
       "    .dataframe tbody tr th {\n",
       "        vertical-align: top;\n",
       "    }\n",
       "\n",
       "    .dataframe thead th {\n",
       "        text-align: right;\n",
       "    }\n",
       "</style>\n",
       "<table border=\"1\" class=\"dataframe\">\n",
       "  <thead>\n",
       "    <tr style=\"text-align: right;\">\n",
       "      <th>Heart Disease</th>\n",
       "      <th>absent</th>\n",
       "      <th>pesent</th>\n",
       "      <th>All</th>\n",
       "    </tr>\n",
       "    <tr>\n",
       "      <th>sex</th>\n",
       "      <th></th>\n",
       "      <th></th>\n",
       "      <th></th>\n",
       "    </tr>\n",
       "  </thead>\n",
       "  <tbody>\n",
       "    <tr>\n",
       "      <th>female</th>\n",
       "      <td>72</td>\n",
       "      <td>25</td>\n",
       "      <td>97</td>\n",
       "    </tr>\n",
       "    <tr>\n",
       "      <th>male</th>\n",
       "      <td>92</td>\n",
       "      <td>114</td>\n",
       "      <td>206</td>\n",
       "    </tr>\n",
       "    <tr>\n",
       "      <th>All</th>\n",
       "      <td>164</td>\n",
       "      <td>139</td>\n",
       "      <td>303</td>\n",
       "    </tr>\n",
       "  </tbody>\n",
       "</table>\n",
       "</div>"
      ],
      "text/plain": [
       "Heart Disease  absent  pesent  All\n",
       "sex                               \n",
       "female             72      25   97\n",
       "male               92     114  206\n",
       "All               164     139  303"
      ]
     },
     "execution_count": 51,
     "metadata": {},
     "output_type": "execute_result"
    }
   ],
   "source": [
    "pd.crosstab(df['sex'], df['Heart Disease'], margins = True)"
   ]
  },
  {
   "cell_type": "code",
   "execution_count": 52,
   "id": "f98c5f84",
   "metadata": {},
   "outputs": [
    {
     "data": {
      "text/plain": [
       "Heart Disease\n",
       "absent    164\n",
       "pesent    139\n",
       "All       303\n",
       "dtype: int64"
      ]
     },
     "execution_count": 52,
     "metadata": {},
     "output_type": "execute_result"
    }
   ],
   "source": [
    "pd.crosstab(df['age'], df['Heart Disease'], margins = True).max()"
   ]
  },
  {
   "cell_type": "code",
   "execution_count": 53,
   "id": "744f609e",
   "metadata": {},
   "outputs": [
    {
     "data": {
      "text/html": [
       "<div>\n",
       "<style scoped>\n",
       "    .dataframe tbody tr th:only-of-type {\n",
       "        vertical-align: middle;\n",
       "    }\n",
       "\n",
       "    .dataframe tbody tr th {\n",
       "        vertical-align: top;\n",
       "    }\n",
       "\n",
       "    .dataframe thead th {\n",
       "        text-align: right;\n",
       "    }\n",
       "</style>\n",
       "<table border=\"1\" class=\"dataframe\">\n",
       "  <thead>\n",
       "    <tr style=\"text-align: right;\">\n",
       "      <th>Heart Disease</th>\n",
       "      <th>absent</th>\n",
       "      <th>pesent</th>\n",
       "      <th>All</th>\n",
       "    </tr>\n",
       "    <tr>\n",
       "      <th>age</th>\n",
       "      <th></th>\n",
       "      <th></th>\n",
       "      <th></th>\n",
       "    </tr>\n",
       "  </thead>\n",
       "  <tbody>\n",
       "    <tr>\n",
       "      <th>29</th>\n",
       "      <td>1</td>\n",
       "      <td>0</td>\n",
       "      <td>1</td>\n",
       "    </tr>\n",
       "    <tr>\n",
       "      <th>34</th>\n",
       "      <td>2</td>\n",
       "      <td>0</td>\n",
       "      <td>2</td>\n",
       "    </tr>\n",
       "    <tr>\n",
       "      <th>35</th>\n",
       "      <td>2</td>\n",
       "      <td>2</td>\n",
       "      <td>4</td>\n",
       "    </tr>\n",
       "    <tr>\n",
       "      <th>37</th>\n",
       "      <td>2</td>\n",
       "      <td>0</td>\n",
       "      <td>2</td>\n",
       "    </tr>\n",
       "    <tr>\n",
       "      <th>38</th>\n",
       "      <td>1</td>\n",
       "      <td>1</td>\n",
       "      <td>2</td>\n",
       "    </tr>\n",
       "    <tr>\n",
       "      <th>39</th>\n",
       "      <td>3</td>\n",
       "      <td>1</td>\n",
       "      <td>4</td>\n",
       "    </tr>\n",
       "    <tr>\n",
       "      <th>40</th>\n",
       "      <td>1</td>\n",
       "      <td>2</td>\n",
       "      <td>3</td>\n",
       "    </tr>\n",
       "    <tr>\n",
       "      <th>41</th>\n",
       "      <td>9</td>\n",
       "      <td>1</td>\n",
       "      <td>10</td>\n",
       "    </tr>\n",
       "    <tr>\n",
       "      <th>42</th>\n",
       "      <td>7</td>\n",
       "      <td>1</td>\n",
       "      <td>8</td>\n",
       "    </tr>\n",
       "    <tr>\n",
       "      <th>43</th>\n",
       "      <td>5</td>\n",
       "      <td>3</td>\n",
       "      <td>8</td>\n",
       "    </tr>\n",
       "    <tr>\n",
       "      <th>44</th>\n",
       "      <td>8</td>\n",
       "      <td>3</td>\n",
       "      <td>11</td>\n",
       "    </tr>\n",
       "    <tr>\n",
       "      <th>45</th>\n",
       "      <td>6</td>\n",
       "      <td>2</td>\n",
       "      <td>8</td>\n",
       "    </tr>\n",
       "    <tr>\n",
       "      <th>46</th>\n",
       "      <td>4</td>\n",
       "      <td>3</td>\n",
       "      <td>7</td>\n",
       "    </tr>\n",
       "    <tr>\n",
       "      <th>47</th>\n",
       "      <td>3</td>\n",
       "      <td>2</td>\n",
       "      <td>5</td>\n",
       "    </tr>\n",
       "    <tr>\n",
       "      <th>48</th>\n",
       "      <td>4</td>\n",
       "      <td>3</td>\n",
       "      <td>7</td>\n",
       "    </tr>\n",
       "    <tr>\n",
       "      <th>49</th>\n",
       "      <td>3</td>\n",
       "      <td>2</td>\n",
       "      <td>5</td>\n",
       "    </tr>\n",
       "    <tr>\n",
       "      <th>50</th>\n",
       "      <td>4</td>\n",
       "      <td>3</td>\n",
       "      <td>7</td>\n",
       "    </tr>\n",
       "    <tr>\n",
       "      <th>51</th>\n",
       "      <td>9</td>\n",
       "      <td>3</td>\n",
       "      <td>12</td>\n",
       "    </tr>\n",
       "    <tr>\n",
       "      <th>52</th>\n",
       "      <td>9</td>\n",
       "      <td>4</td>\n",
       "      <td>13</td>\n",
       "    </tr>\n",
       "    <tr>\n",
       "      <th>53</th>\n",
       "      <td>6</td>\n",
       "      <td>2</td>\n",
       "      <td>8</td>\n",
       "    </tr>\n",
       "    <tr>\n",
       "      <th>54</th>\n",
       "      <td>10</td>\n",
       "      <td>6</td>\n",
       "      <td>16</td>\n",
       "    </tr>\n",
       "    <tr>\n",
       "      <th>55</th>\n",
       "      <td>3</td>\n",
       "      <td>5</td>\n",
       "      <td>8</td>\n",
       "    </tr>\n",
       "    <tr>\n",
       "      <th>56</th>\n",
       "      <td>5</td>\n",
       "      <td>6</td>\n",
       "      <td>11</td>\n",
       "    </tr>\n",
       "    <tr>\n",
       "      <th>57</th>\n",
       "      <td>7</td>\n",
       "      <td>10</td>\n",
       "      <td>17</td>\n",
       "    </tr>\n",
       "    <tr>\n",
       "      <th>58</th>\n",
       "      <td>7</td>\n",
       "      <td>12</td>\n",
       "      <td>19</td>\n",
       "    </tr>\n",
       "    <tr>\n",
       "      <th>59</th>\n",
       "      <td>5</td>\n",
       "      <td>9</td>\n",
       "      <td>14</td>\n",
       "    </tr>\n",
       "    <tr>\n",
       "      <th>60</th>\n",
       "      <td>3</td>\n",
       "      <td>9</td>\n",
       "      <td>12</td>\n",
       "    </tr>\n",
       "    <tr>\n",
       "      <th>61</th>\n",
       "      <td>1</td>\n",
       "      <td>7</td>\n",
       "      <td>8</td>\n",
       "    </tr>\n",
       "    <tr>\n",
       "      <th>62</th>\n",
       "      <td>4</td>\n",
       "      <td>7</td>\n",
       "      <td>11</td>\n",
       "    </tr>\n",
       "    <tr>\n",
       "      <th>63</th>\n",
       "      <td>3</td>\n",
       "      <td>6</td>\n",
       "      <td>9</td>\n",
       "    </tr>\n",
       "    <tr>\n",
       "      <th>64</th>\n",
       "      <td>6</td>\n",
       "      <td>4</td>\n",
       "      <td>10</td>\n",
       "    </tr>\n",
       "    <tr>\n",
       "      <th>65</th>\n",
       "      <td>4</td>\n",
       "      <td>4</td>\n",
       "      <td>8</td>\n",
       "    </tr>\n",
       "    <tr>\n",
       "      <th>66</th>\n",
       "      <td>4</td>\n",
       "      <td>3</td>\n",
       "      <td>7</td>\n",
       "    </tr>\n",
       "    <tr>\n",
       "      <th>67</th>\n",
       "      <td>3</td>\n",
       "      <td>6</td>\n",
       "      <td>9</td>\n",
       "    </tr>\n",
       "    <tr>\n",
       "      <th>68</th>\n",
       "      <td>2</td>\n",
       "      <td>2</td>\n",
       "      <td>4</td>\n",
       "    </tr>\n",
       "    <tr>\n",
       "      <th>69</th>\n",
       "      <td>2</td>\n",
       "      <td>1</td>\n",
       "      <td>3</td>\n",
       "    </tr>\n",
       "    <tr>\n",
       "      <th>70</th>\n",
       "      <td>1</td>\n",
       "      <td>3</td>\n",
       "      <td>4</td>\n",
       "    </tr>\n",
       "    <tr>\n",
       "      <th>71</th>\n",
       "      <td>3</td>\n",
       "      <td>0</td>\n",
       "      <td>3</td>\n",
       "    </tr>\n",
       "    <tr>\n",
       "      <th>74</th>\n",
       "      <td>1</td>\n",
       "      <td>0</td>\n",
       "      <td>1</td>\n",
       "    </tr>\n",
       "    <tr>\n",
       "      <th>76</th>\n",
       "      <td>1</td>\n",
       "      <td>0</td>\n",
       "      <td>1</td>\n",
       "    </tr>\n",
       "    <tr>\n",
       "      <th>77</th>\n",
       "      <td>0</td>\n",
       "      <td>1</td>\n",
       "      <td>1</td>\n",
       "    </tr>\n",
       "    <tr>\n",
       "      <th>All</th>\n",
       "      <td>164</td>\n",
       "      <td>139</td>\n",
       "      <td>303</td>\n",
       "    </tr>\n",
       "  </tbody>\n",
       "</table>\n",
       "</div>"
      ],
      "text/plain": [
       "Heart Disease  absent  pesent  All\n",
       "age                               \n",
       "29                  1       0    1\n",
       "34                  2       0    2\n",
       "35                  2       2    4\n",
       "37                  2       0    2\n",
       "38                  1       1    2\n",
       "39                  3       1    4\n",
       "40                  1       2    3\n",
       "41                  9       1   10\n",
       "42                  7       1    8\n",
       "43                  5       3    8\n",
       "44                  8       3   11\n",
       "45                  6       2    8\n",
       "46                  4       3    7\n",
       "47                  3       2    5\n",
       "48                  4       3    7\n",
       "49                  3       2    5\n",
       "50                  4       3    7\n",
       "51                  9       3   12\n",
       "52                  9       4   13\n",
       "53                  6       2    8\n",
       "54                 10       6   16\n",
       "55                  3       5    8\n",
       "56                  5       6   11\n",
       "57                  7      10   17\n",
       "58                  7      12   19\n",
       "59                  5       9   14\n",
       "60                  3       9   12\n",
       "61                  1       7    8\n",
       "62                  4       7   11\n",
       "63                  3       6    9\n",
       "64                  6       4   10\n",
       "65                  4       4    8\n",
       "66                  4       3    7\n",
       "67                  3       6    9\n",
       "68                  2       2    4\n",
       "69                  2       1    3\n",
       "70                  1       3    4\n",
       "71                  3       0    3\n",
       "74                  1       0    1\n",
       "76                  1       0    1\n",
       "77                  0       1    1\n",
       "All               164     139  303"
      ]
     },
     "execution_count": 53,
     "metadata": {},
     "output_type": "execute_result"
    }
   ],
   "source": [
    "pd.crosstab(df['age'], df['Heart Disease'], margins = True)"
   ]
  },
  {
   "cell_type": "code",
   "execution_count": 54,
   "id": "66981eec",
   "metadata": {},
   "outputs": [
    {
     "data": {
      "text/html": [
       "<div>\n",
       "<style scoped>\n",
       "    .dataframe tbody tr th:only-of-type {\n",
       "        vertical-align: middle;\n",
       "    }\n",
       "\n",
       "    .dataframe tbody tr th {\n",
       "        vertical-align: top;\n",
       "    }\n",
       "\n",
       "    .dataframe thead th {\n",
       "        text-align: right;\n",
       "    }\n",
       "</style>\n",
       "<table border=\"1\" class=\"dataframe\">\n",
       "  <thead>\n",
       "    <tr style=\"text-align: right;\">\n",
       "      <th></th>\n",
       "      <th>age</th>\n",
       "      <th>cp</th>\n",
       "      <th>trestbps</th>\n",
       "      <th>chol</th>\n",
       "      <th>fbs</th>\n",
       "      <th>restecg</th>\n",
       "      <th>thalach</th>\n",
       "      <th>exang</th>\n",
       "      <th>oldpeak</th>\n",
       "      <th>slope</th>\n",
       "      <th>ca</th>\n",
       "      <th>thal</th>\n",
       "      <th>Heart Disease</th>\n",
       "      <th>age_group</th>\n",
       "    </tr>\n",
       "    <tr>\n",
       "      <th>sex</th>\n",
       "      <th></th>\n",
       "      <th></th>\n",
       "      <th></th>\n",
       "      <th></th>\n",
       "      <th></th>\n",
       "      <th></th>\n",
       "      <th></th>\n",
       "      <th></th>\n",
       "      <th></th>\n",
       "      <th></th>\n",
       "      <th></th>\n",
       "      <th></th>\n",
       "      <th></th>\n",
       "      <th></th>\n",
       "    </tr>\n",
       "  </thead>\n",
       "  <tbody>\n",
       "    <tr>\n",
       "      <th>female</th>\n",
       "      <td>41</td>\n",
       "      <td>atypical angina</td>\n",
       "      <td>130</td>\n",
       "      <td>204</td>\n",
       "      <td>below 120mg/dl</td>\n",
       "      <td>hypertrophy</td>\n",
       "      <td>172</td>\n",
       "      <td>no</td>\n",
       "      <td>1.4</td>\n",
       "      <td>upsloping</td>\n",
       "      <td>0</td>\n",
       "      <td>normal</td>\n",
       "      <td>absent</td>\n",
       "      <td>below 45</td>\n",
       "    </tr>\n",
       "    <tr>\n",
       "      <th>male</th>\n",
       "      <td>63</td>\n",
       "      <td>typical angina</td>\n",
       "      <td>145</td>\n",
       "      <td>233</td>\n",
       "      <td>above 120 mg/dl</td>\n",
       "      <td>hypertrophy</td>\n",
       "      <td>150</td>\n",
       "      <td>no</td>\n",
       "      <td>2.3</td>\n",
       "      <td>downsloping</td>\n",
       "      <td>0</td>\n",
       "      <td>fixed defect</td>\n",
       "      <td>absent</td>\n",
       "      <td>above 60</td>\n",
       "    </tr>\n",
       "  </tbody>\n",
       "</table>\n",
       "</div>"
      ],
      "text/plain": [
       "        age               cp  trestbps  chol              fbs      restecg  \\\n",
       "sex                                                                          \n",
       "female   41  atypical angina       130   204   below 120mg/dl  hypertrophy   \n",
       "male     63   typical angina       145   233  above 120 mg/dl  hypertrophy   \n",
       "\n",
       "        thalach exang  oldpeak        slope ca          thal Heart Disease  \\\n",
       "sex                                                                          \n",
       "female      172    no      1.4    upsloping  0        normal        absent   \n",
       "male        150    no      2.3  downsloping  0  fixed defect        absent   \n",
       "\n",
       "       age_group  \n",
       "sex               \n",
       "female  below 45  \n",
       "male    above 60  "
      ]
     },
     "execution_count": 54,
     "metadata": {},
     "output_type": "execute_result"
    }
   ],
   "source": [
    "disease_by_sex = df.groupby('sex')\n",
    "disease_by_sex.first()"
   ]
  },
  {
   "cell_type": "code",
   "execution_count": 55,
   "id": "3a48a321",
   "metadata": {},
   "outputs": [
    {
     "data": {
      "text/plain": [
       "sex\n",
       "female    261.752577\n",
       "male      239.601942\n",
       "Name: chol, dtype: float64"
      ]
     },
     "execution_count": 55,
     "metadata": {},
     "output_type": "execute_result"
    }
   ],
   "source": [
    "disease_by_sex.chol.mean()"
   ]
  },
  {
   "cell_type": "code",
   "execution_count": 56,
   "id": "b3f218a3",
   "metadata": {},
   "outputs": [],
   "source": [
    "heart_disease_by_gender = df.groupby('Heart Disease')"
   ]
  },
  {
   "cell_type": "code",
   "execution_count": 57,
   "id": "07a1e9ce",
   "metadata": {},
   "outputs": [
    {
     "data": {
      "text/html": [
       "<div>\n",
       "<style scoped>\n",
       "    .dataframe tbody tr th:only-of-type {\n",
       "        vertical-align: middle;\n",
       "    }\n",
       "\n",
       "    .dataframe tbody tr th {\n",
       "        vertical-align: top;\n",
       "    }\n",
       "\n",
       "    .dataframe thead th {\n",
       "        text-align: right;\n",
       "    }\n",
       "</style>\n",
       "<table border=\"1\" class=\"dataframe\">\n",
       "  <thead>\n",
       "    <tr style=\"text-align: right;\">\n",
       "      <th></th>\n",
       "      <th>age</th>\n",
       "      <th>sex</th>\n",
       "      <th>cp</th>\n",
       "      <th>trestbps</th>\n",
       "      <th>chol</th>\n",
       "      <th>fbs</th>\n",
       "      <th>restecg</th>\n",
       "      <th>thalach</th>\n",
       "      <th>exang</th>\n",
       "      <th>oldpeak</th>\n",
       "      <th>slope</th>\n",
       "      <th>ca</th>\n",
       "      <th>thal</th>\n",
       "      <th>age_group</th>\n",
       "    </tr>\n",
       "    <tr>\n",
       "      <th>Heart Disease</th>\n",
       "      <th></th>\n",
       "      <th></th>\n",
       "      <th></th>\n",
       "      <th></th>\n",
       "      <th></th>\n",
       "      <th></th>\n",
       "      <th></th>\n",
       "      <th></th>\n",
       "      <th></th>\n",
       "      <th></th>\n",
       "      <th></th>\n",
       "      <th></th>\n",
       "      <th></th>\n",
       "      <th></th>\n",
       "    </tr>\n",
       "  </thead>\n",
       "  <tbody>\n",
       "    <tr>\n",
       "      <th>absent</th>\n",
       "      <td>63</td>\n",
       "      <td>male</td>\n",
       "      <td>typical angina</td>\n",
       "      <td>145</td>\n",
       "      <td>233</td>\n",
       "      <td>above 120 mg/dl</td>\n",
       "      <td>hypertrophy</td>\n",
       "      <td>150</td>\n",
       "      <td>no</td>\n",
       "      <td>2.3</td>\n",
       "      <td>downsloping</td>\n",
       "      <td>0</td>\n",
       "      <td>fixed defect</td>\n",
       "      <td>above 60</td>\n",
       "    </tr>\n",
       "    <tr>\n",
       "      <th>pesent</th>\n",
       "      <td>67</td>\n",
       "      <td>male</td>\n",
       "      <td>asymptomatic</td>\n",
       "      <td>160</td>\n",
       "      <td>286</td>\n",
       "      <td>below 120mg/dl</td>\n",
       "      <td>hypertrophy</td>\n",
       "      <td>108</td>\n",
       "      <td>yes</td>\n",
       "      <td>1.5</td>\n",
       "      <td>flat</td>\n",
       "      <td>3</td>\n",
       "      <td>normal</td>\n",
       "      <td>above 60</td>\n",
       "    </tr>\n",
       "  </tbody>\n",
       "</table>\n",
       "</div>"
      ],
      "text/plain": [
       "               age   sex              cp  trestbps  chol              fbs  \\\n",
       "Heart Disease                                                               \n",
       "absent          63  male  typical angina       145   233  above 120 mg/dl   \n",
       "pesent          67  male    asymptomatic       160   286   below 120mg/dl   \n",
       "\n",
       "                   restecg  thalach exang  oldpeak        slope ca  \\\n",
       "Heart Disease                                                        \n",
       "absent         hypertrophy      150    no      2.3  downsloping  0   \n",
       "pesent         hypertrophy      108   yes      1.5         flat  3   \n",
       "\n",
       "                       thal age_group  \n",
       "Heart Disease                          \n",
       "absent         fixed defect  above 60  \n",
       "pesent               normal  above 60  "
      ]
     },
     "execution_count": 57,
     "metadata": {},
     "output_type": "execute_result"
    }
   ],
   "source": [
    "heart_disease_by_gender.first()"
   ]
  },
  {
   "cell_type": "code",
   "execution_count": 58,
   "id": "85ed9fbb",
   "metadata": {},
   "outputs": [
    {
     "data": {
      "text/html": [
       "<div>\n",
       "<style scoped>\n",
       "    .dataframe tbody tr th:only-of-type {\n",
       "        vertical-align: middle;\n",
       "    }\n",
       "\n",
       "    .dataframe tbody tr th {\n",
       "        vertical-align: top;\n",
       "    }\n",
       "\n",
       "    .dataframe thead th {\n",
       "        text-align: right;\n",
       "    }\n",
       "</style>\n",
       "<table border=\"1\" class=\"dataframe\">\n",
       "  <thead>\n",
       "    <tr style=\"text-align: right;\">\n",
       "      <th></th>\n",
       "      <th>age</th>\n",
       "      <th>sex</th>\n",
       "      <th>cp</th>\n",
       "      <th>trestbps</th>\n",
       "      <th>chol</th>\n",
       "      <th>fbs</th>\n",
       "      <th>restecg</th>\n",
       "      <th>thalach</th>\n",
       "      <th>exang</th>\n",
       "      <th>oldpeak</th>\n",
       "      <th>slope</th>\n",
       "      <th>ca</th>\n",
       "      <th>thal</th>\n",
       "      <th>age_group</th>\n",
       "    </tr>\n",
       "    <tr>\n",
       "      <th>Heart Disease</th>\n",
       "      <th></th>\n",
       "      <th></th>\n",
       "      <th></th>\n",
       "      <th></th>\n",
       "      <th></th>\n",
       "      <th></th>\n",
       "      <th></th>\n",
       "      <th></th>\n",
       "      <th></th>\n",
       "      <th></th>\n",
       "      <th></th>\n",
       "      <th></th>\n",
       "      <th></th>\n",
       "      <th></th>\n",
       "    </tr>\n",
       "  </thead>\n",
       "  <tbody>\n",
       "    <tr>\n",
       "      <th>absent</th>\n",
       "      <td>38</td>\n",
       "      <td>male</td>\n",
       "      <td>non-anginal pain</td>\n",
       "      <td>138</td>\n",
       "      <td>175</td>\n",
       "      <td>below 120mg/dl</td>\n",
       "      <td>normal</td>\n",
       "      <td>173</td>\n",
       "      <td>no</td>\n",
       "      <td>0.0</td>\n",
       "      <td>upsloping</td>\n",
       "      <td>0</td>\n",
       "      <td>normal</td>\n",
       "      <td>below 45</td>\n",
       "    </tr>\n",
       "    <tr>\n",
       "      <th>pesent</th>\n",
       "      <td>57</td>\n",
       "      <td>female</td>\n",
       "      <td>atypical angina</td>\n",
       "      <td>130</td>\n",
       "      <td>236</td>\n",
       "      <td>below 120mg/dl</td>\n",
       "      <td>hypertrophy</td>\n",
       "      <td>174</td>\n",
       "      <td>no</td>\n",
       "      <td>0.0</td>\n",
       "      <td>flat</td>\n",
       "      <td>1</td>\n",
       "      <td>normal</td>\n",
       "      <td>45-60</td>\n",
       "    </tr>\n",
       "  </tbody>\n",
       "</table>\n",
       "</div>"
      ],
      "text/plain": [
       "               age     sex                cp  trestbps  chol             fbs  \\\n",
       "Heart Disease                                                                  \n",
       "absent          38    male  non-anginal pain       138   175  below 120mg/dl   \n",
       "pesent          57  female   atypical angina       130   236  below 120mg/dl   \n",
       "\n",
       "                   restecg  thalach exang  oldpeak      slope ca    thal  \\\n",
       "Heart Disease                                                              \n",
       "absent              normal      173    no      0.0  upsloping  0  normal   \n",
       "pesent         hypertrophy      174    no      0.0       flat  1  normal   \n",
       "\n",
       "              age_group  \n",
       "Heart Disease            \n",
       "absent         below 45  \n",
       "pesent            45-60  "
      ]
     },
     "execution_count": 58,
     "metadata": {},
     "output_type": "execute_result"
    }
   ],
   "source": [
    "heart_disease_by_gender.last()"
   ]
  },
  {
   "cell_type": "code",
   "execution_count": 59,
   "id": "f5b8a914",
   "metadata": {},
   "outputs": [
    {
     "name": "stderr",
     "output_type": "stream",
     "text": [
      "C:\\Users\\RAVIKU~1\\AppData\\Local\\Temp/ipykernel_904/1680010642.py:1: FutureWarning: Dropping invalid columns in DataFrameGroupBy.max is deprecated. In a future version, a TypeError will be raised. Before calling .max, select only columns which should be valid for the function.\n",
      "  heart_disease_by_gender.max()\n"
     ]
    },
    {
     "data": {
      "text/html": [
       "<div>\n",
       "<style scoped>\n",
       "    .dataframe tbody tr th:only-of-type {\n",
       "        vertical-align: middle;\n",
       "    }\n",
       "\n",
       "    .dataframe tbody tr th {\n",
       "        vertical-align: top;\n",
       "    }\n",
       "\n",
       "    .dataframe thead th {\n",
       "        text-align: right;\n",
       "    }\n",
       "</style>\n",
       "<table border=\"1\" class=\"dataframe\">\n",
       "  <thead>\n",
       "    <tr style=\"text-align: right;\">\n",
       "      <th></th>\n",
       "      <th>age</th>\n",
       "      <th>trestbps</th>\n",
       "      <th>chol</th>\n",
       "      <th>thalach</th>\n",
       "      <th>oldpeak</th>\n",
       "      <th>age_group</th>\n",
       "    </tr>\n",
       "    <tr>\n",
       "      <th>Heart Disease</th>\n",
       "      <th></th>\n",
       "      <th></th>\n",
       "      <th></th>\n",
       "      <th></th>\n",
       "      <th></th>\n",
       "      <th></th>\n",
       "    </tr>\n",
       "  </thead>\n",
       "  <tbody>\n",
       "    <tr>\n",
       "      <th>absent</th>\n",
       "      <td>76</td>\n",
       "      <td>180</td>\n",
       "      <td>564</td>\n",
       "      <td>202</td>\n",
       "      <td>4.2</td>\n",
       "      <td>above 60</td>\n",
       "    </tr>\n",
       "    <tr>\n",
       "      <th>pesent</th>\n",
       "      <td>77</td>\n",
       "      <td>200</td>\n",
       "      <td>409</td>\n",
       "      <td>195</td>\n",
       "      <td>6.2</td>\n",
       "      <td>above 60</td>\n",
       "    </tr>\n",
       "  </tbody>\n",
       "</table>\n",
       "</div>"
      ],
      "text/plain": [
       "               age  trestbps  chol  thalach  oldpeak age_group\n",
       "Heart Disease                                                 \n",
       "absent          76       180   564      202      4.2  above 60\n",
       "pesent          77       200   409      195      6.2  above 60"
      ]
     },
     "execution_count": 59,
     "metadata": {},
     "output_type": "execute_result"
    }
   ],
   "source": [
    "heart_disease_by_gender.max()"
   ]
  },
  {
   "cell_type": "code",
   "execution_count": 60,
   "id": "a65fe3e7",
   "metadata": {},
   "outputs": [
    {
     "data": {
      "text/html": [
       "<div>\n",
       "<style scoped>\n",
       "    .dataframe tbody tr th:only-of-type {\n",
       "        vertical-align: middle;\n",
       "    }\n",
       "\n",
       "    .dataframe tbody tr th {\n",
       "        vertical-align: top;\n",
       "    }\n",
       "\n",
       "    .dataframe thead th {\n",
       "        text-align: right;\n",
       "    }\n",
       "</style>\n",
       "<table border=\"1\" class=\"dataframe\">\n",
       "  <thead>\n",
       "    <tr style=\"text-align: right;\">\n",
       "      <th></th>\n",
       "      <th></th>\n",
       "      <th>age</th>\n",
       "      <th>cp</th>\n",
       "      <th>trestbps</th>\n",
       "      <th>chol</th>\n",
       "      <th>fbs</th>\n",
       "      <th>restecg</th>\n",
       "      <th>thalach</th>\n",
       "      <th>exang</th>\n",
       "      <th>oldpeak</th>\n",
       "      <th>slope</th>\n",
       "      <th>ca</th>\n",
       "      <th>thal</th>\n",
       "      <th>age_group</th>\n",
       "    </tr>\n",
       "    <tr>\n",
       "      <th>sex</th>\n",
       "      <th>Heart Disease</th>\n",
       "      <th></th>\n",
       "      <th></th>\n",
       "      <th></th>\n",
       "      <th></th>\n",
       "      <th></th>\n",
       "      <th></th>\n",
       "      <th></th>\n",
       "      <th></th>\n",
       "      <th></th>\n",
       "      <th></th>\n",
       "      <th></th>\n",
       "      <th></th>\n",
       "      <th></th>\n",
       "    </tr>\n",
       "  </thead>\n",
       "  <tbody>\n",
       "    <tr>\n",
       "      <th rowspan=\"2\" valign=\"top\">female</th>\n",
       "      <th>absent</th>\n",
       "      <td>41</td>\n",
       "      <td>atypical angina</td>\n",
       "      <td>130</td>\n",
       "      <td>204</td>\n",
       "      <td>below 120mg/dl</td>\n",
       "      <td>hypertrophy</td>\n",
       "      <td>172</td>\n",
       "      <td>no</td>\n",
       "      <td>1.4</td>\n",
       "      <td>upsloping</td>\n",
       "      <td>0</td>\n",
       "      <td>normal</td>\n",
       "      <td>below 45</td>\n",
       "    </tr>\n",
       "    <tr>\n",
       "      <th>pesent</th>\n",
       "      <td>62</td>\n",
       "      <td>asymptomatic</td>\n",
       "      <td>140</td>\n",
       "      <td>268</td>\n",
       "      <td>below 120mg/dl</td>\n",
       "      <td>hypertrophy</td>\n",
       "      <td>160</td>\n",
       "      <td>no</td>\n",
       "      <td>3.6</td>\n",
       "      <td>downsloping</td>\n",
       "      <td>2</td>\n",
       "      <td>normal</td>\n",
       "      <td>above 60</td>\n",
       "    </tr>\n",
       "    <tr>\n",
       "      <th rowspan=\"2\" valign=\"top\">male</th>\n",
       "      <th>absent</th>\n",
       "      <td>63</td>\n",
       "      <td>typical angina</td>\n",
       "      <td>145</td>\n",
       "      <td>233</td>\n",
       "      <td>above 120 mg/dl</td>\n",
       "      <td>hypertrophy</td>\n",
       "      <td>150</td>\n",
       "      <td>no</td>\n",
       "      <td>2.3</td>\n",
       "      <td>downsloping</td>\n",
       "      <td>0</td>\n",
       "      <td>fixed defect</td>\n",
       "      <td>above 60</td>\n",
       "    </tr>\n",
       "    <tr>\n",
       "      <th>pesent</th>\n",
       "      <td>67</td>\n",
       "      <td>asymptomatic</td>\n",
       "      <td>160</td>\n",
       "      <td>286</td>\n",
       "      <td>below 120mg/dl</td>\n",
       "      <td>hypertrophy</td>\n",
       "      <td>108</td>\n",
       "      <td>yes</td>\n",
       "      <td>1.5</td>\n",
       "      <td>flat</td>\n",
       "      <td>3</td>\n",
       "      <td>normal</td>\n",
       "      <td>above 60</td>\n",
       "    </tr>\n",
       "  </tbody>\n",
       "</table>\n",
       "</div>"
      ],
      "text/plain": [
       "                      age               cp  trestbps  chol              fbs  \\\n",
       "sex    Heart Disease                                                          \n",
       "female absent          41  atypical angina       130   204   below 120mg/dl   \n",
       "       pesent          62     asymptomatic       140   268   below 120mg/dl   \n",
       "male   absent          63   typical angina       145   233  above 120 mg/dl   \n",
       "       pesent          67     asymptomatic       160   286   below 120mg/dl   \n",
       "\n",
       "                          restecg  thalach exang  oldpeak        slope ca  \\\n",
       "sex    Heart Disease                                                        \n",
       "female absent         hypertrophy      172    no      1.4    upsloping  0   \n",
       "       pesent         hypertrophy      160    no      3.6  downsloping  2   \n",
       "male   absent         hypertrophy      150    no      2.3  downsloping  0   \n",
       "       pesent         hypertrophy      108   yes      1.5         flat  3   \n",
       "\n",
       "                              thal age_group  \n",
       "sex    Heart Disease                          \n",
       "female absent               normal  below 45  \n",
       "       pesent               normal  above 60  \n",
       "male   absent         fixed defect  above 60  \n",
       "       pesent               normal  above 60  "
      ]
     },
     "execution_count": 60,
     "metadata": {},
     "output_type": "execute_result"
    }
   ],
   "source": [
    "group_sex_target = df.groupby(['sex', 'Heart Disease'])\n",
    "group_sex_target.first()"
   ]
  },
  {
   "cell_type": "code",
   "execution_count": 61,
   "id": "1f70bce0",
   "metadata": {},
   "outputs": [
    {
     "data": {
      "text/html": [
       "<div>\n",
       "<style scoped>\n",
       "    .dataframe tbody tr th:only-of-type {\n",
       "        vertical-align: middle;\n",
       "    }\n",
       "\n",
       "    .dataframe tbody tr th {\n",
       "        vertical-align: top;\n",
       "    }\n",
       "\n",
       "    .dataframe thead th {\n",
       "        text-align: right;\n",
       "    }\n",
       "</style>\n",
       "<table border=\"1\" class=\"dataframe\">\n",
       "  <thead>\n",
       "    <tr style=\"text-align: right;\">\n",
       "      <th></th>\n",
       "      <th></th>\n",
       "      <th>age</th>\n",
       "      <th>cp</th>\n",
       "      <th>trestbps</th>\n",
       "      <th>chol</th>\n",
       "      <th>fbs</th>\n",
       "      <th>thalach</th>\n",
       "      <th>exang</th>\n",
       "      <th>oldpeak</th>\n",
       "      <th>slope</th>\n",
       "      <th>ca</th>\n",
       "      <th>thal</th>\n",
       "      <th>Heart Disease</th>\n",
       "      <th>age_group</th>\n",
       "    </tr>\n",
       "    <tr>\n",
       "      <th>restecg</th>\n",
       "      <th>sex</th>\n",
       "      <th></th>\n",
       "      <th></th>\n",
       "      <th></th>\n",
       "      <th></th>\n",
       "      <th></th>\n",
       "      <th></th>\n",
       "      <th></th>\n",
       "      <th></th>\n",
       "      <th></th>\n",
       "      <th></th>\n",
       "      <th></th>\n",
       "      <th></th>\n",
       "      <th></th>\n",
       "    </tr>\n",
       "  </thead>\n",
       "  <tbody>\n",
       "    <tr>\n",
       "      <th rowspan=\"2\" valign=\"top\">normal</th>\n",
       "      <th>female</th>\n",
       "      <td>49</td>\n",
       "      <td>49</td>\n",
       "      <td>49</td>\n",
       "      <td>49</td>\n",
       "      <td>49</td>\n",
       "      <td>49</td>\n",
       "      <td>49</td>\n",
       "      <td>49</td>\n",
       "      <td>49</td>\n",
       "      <td>49</td>\n",
       "      <td>49</td>\n",
       "      <td>49</td>\n",
       "      <td>49</td>\n",
       "    </tr>\n",
       "    <tr>\n",
       "      <th>male</th>\n",
       "      <td>102</td>\n",
       "      <td>102</td>\n",
       "      <td>102</td>\n",
       "      <td>102</td>\n",
       "      <td>102</td>\n",
       "      <td>102</td>\n",
       "      <td>102</td>\n",
       "      <td>102</td>\n",
       "      <td>102</td>\n",
       "      <td>102</td>\n",
       "      <td>102</td>\n",
       "      <td>102</td>\n",
       "      <td>102</td>\n",
       "    </tr>\n",
       "    <tr>\n",
       "      <th rowspan=\"2\" valign=\"top\">abnormality</th>\n",
       "      <th>female</th>\n",
       "      <td>3</td>\n",
       "      <td>3</td>\n",
       "      <td>3</td>\n",
       "      <td>3</td>\n",
       "      <td>3</td>\n",
       "      <td>3</td>\n",
       "      <td>3</td>\n",
       "      <td>3</td>\n",
       "      <td>3</td>\n",
       "      <td>3</td>\n",
       "      <td>3</td>\n",
       "      <td>3</td>\n",
       "      <td>3</td>\n",
       "    </tr>\n",
       "    <tr>\n",
       "      <th>male</th>\n",
       "      <td>1</td>\n",
       "      <td>1</td>\n",
       "      <td>1</td>\n",
       "      <td>1</td>\n",
       "      <td>1</td>\n",
       "      <td>1</td>\n",
       "      <td>1</td>\n",
       "      <td>1</td>\n",
       "      <td>1</td>\n",
       "      <td>1</td>\n",
       "      <td>1</td>\n",
       "      <td>1</td>\n",
       "      <td>1</td>\n",
       "    </tr>\n",
       "    <tr>\n",
       "      <th rowspan=\"2\" valign=\"top\">hypertrophy</th>\n",
       "      <th>female</th>\n",
       "      <td>45</td>\n",
       "      <td>45</td>\n",
       "      <td>45</td>\n",
       "      <td>45</td>\n",
       "      <td>45</td>\n",
       "      <td>45</td>\n",
       "      <td>45</td>\n",
       "      <td>45</td>\n",
       "      <td>45</td>\n",
       "      <td>45</td>\n",
       "      <td>45</td>\n",
       "      <td>45</td>\n",
       "      <td>45</td>\n",
       "    </tr>\n",
       "    <tr>\n",
       "      <th>male</th>\n",
       "      <td>103</td>\n",
       "      <td>103</td>\n",
       "      <td>103</td>\n",
       "      <td>103</td>\n",
       "      <td>103</td>\n",
       "      <td>103</td>\n",
       "      <td>103</td>\n",
       "      <td>103</td>\n",
       "      <td>103</td>\n",
       "      <td>103</td>\n",
       "      <td>103</td>\n",
       "      <td>103</td>\n",
       "      <td>103</td>\n",
       "    </tr>\n",
       "  </tbody>\n",
       "</table>\n",
       "</div>"
      ],
      "text/plain": [
       "                    age   cp  trestbps  chol  fbs  thalach  exang  oldpeak  \\\n",
       "restecg     sex                                                              \n",
       "normal      female   49   49        49    49   49       49     49       49   \n",
       "            male    102  102       102   102  102      102    102      102   \n",
       "abnormality female    3    3         3     3    3        3      3        3   \n",
       "            male      1    1         1     1    1        1      1        1   \n",
       "hypertrophy female   45   45        45    45   45       45     45       45   \n",
       "            male    103  103       103   103  103      103    103      103   \n",
       "\n",
       "                    slope   ca  thal  Heart Disease  age_group  \n",
       "restecg     sex                                                 \n",
       "normal      female     49   49    49             49         49  \n",
       "            male      102  102   102            102        102  \n",
       "abnormality female      3    3     3              3          3  \n",
       "            male        1    1     1              1          1  \n",
       "hypertrophy female     45   45    45             45         45  \n",
       "            male      103  103   103            103        103  "
      ]
     },
     "execution_count": 61,
     "metadata": {},
     "output_type": "execute_result"
    }
   ],
   "source": [
    "group_by_restecg = df.groupby(['restecg','sex'])\n",
    "group_by_restecg.count()"
   ]
  },
  {
   "cell_type": "code",
   "execution_count": 62,
   "id": "a8025ea3",
   "metadata": {},
   "outputs": [
    {
     "data": {
      "text/html": [
       "<div>\n",
       "<style scoped>\n",
       "    .dataframe tbody tr th:only-of-type {\n",
       "        vertical-align: middle;\n",
       "    }\n",
       "\n",
       "    .dataframe tbody tr th {\n",
       "        vertical-align: top;\n",
       "    }\n",
       "\n",
       "    .dataframe thead tr th {\n",
       "        text-align: left;\n",
       "    }\n",
       "\n",
       "    .dataframe thead tr:last-of-type th {\n",
       "        text-align: right;\n",
       "    }\n",
       "</style>\n",
       "<table border=\"1\" class=\"dataframe\">\n",
       "  <thead>\n",
       "    <tr>\n",
       "      <th></th>\n",
       "      <th></th>\n",
       "      <th></th>\n",
       "      <th>min</th>\n",
       "      <th>max</th>\n",
       "      <th>mean</th>\n",
       "      <th>median</th>\n",
       "      <th>std</th>\n",
       "    </tr>\n",
       "    <tr>\n",
       "      <th></th>\n",
       "      <th></th>\n",
       "      <th></th>\n",
       "      <th>age</th>\n",
       "      <th>age</th>\n",
       "      <th>age</th>\n",
       "      <th>age</th>\n",
       "      <th>age</th>\n",
       "    </tr>\n",
       "    <tr>\n",
       "      <th>Heart Disease</th>\n",
       "      <th>exang</th>\n",
       "      <th>cp</th>\n",
       "      <th></th>\n",
       "      <th></th>\n",
       "      <th></th>\n",
       "      <th></th>\n",
       "      <th></th>\n",
       "    </tr>\n",
       "  </thead>\n",
       "  <tbody>\n",
       "    <tr>\n",
       "      <th rowspan=\"8\" valign=\"top\">absent</th>\n",
       "      <th rowspan=\"4\" valign=\"top\">no</th>\n",
       "      <th>asymptomatic</th>\n",
       "      <td>35</td>\n",
       "      <td>71</td>\n",
       "      <td>54.137931</td>\n",
       "      <td>54.0</td>\n",
       "      <td>9.295637</td>\n",
       "    </tr>\n",
       "    <tr>\n",
       "      <th>atypical angina</th>\n",
       "      <td>29</td>\n",
       "      <td>71</td>\n",
       "      <td>49.052632</td>\n",
       "      <td>48.5</td>\n",
       "      <td>9.188557</td>\n",
       "    </tr>\n",
       "    <tr>\n",
       "      <th>non-anginal pain</th>\n",
       "      <td>37</td>\n",
       "      <td>76</td>\n",
       "      <td>52.672131</td>\n",
       "      <td>52.0</td>\n",
       "      <td>9.554617</td>\n",
       "    </tr>\n",
       "    <tr>\n",
       "      <th>typical angina</th>\n",
       "      <td>34</td>\n",
       "      <td>69</td>\n",
       "      <td>57.230769</td>\n",
       "      <td>59.0</td>\n",
       "      <td>10.296875</td>\n",
       "    </tr>\n",
       "    <tr>\n",
       "      <th rowspan=\"4\" valign=\"top\">yes</th>\n",
       "      <th>asymptomatic</th>\n",
       "      <td>45</td>\n",
       "      <td>64</td>\n",
       "      <td>53.900000</td>\n",
       "      <td>55.0</td>\n",
       "      <td>7.171704</td>\n",
       "    </tr>\n",
       "    <tr>\n",
       "      <th>atypical angina</th>\n",
       "      <td>54</td>\n",
       "      <td>74</td>\n",
       "      <td>62.333333</td>\n",
       "      <td>59.0</td>\n",
       "      <td>10.408330</td>\n",
       "    </tr>\n",
       "    <tr>\n",
       "      <th>non-anginal pain</th>\n",
       "      <td>41</td>\n",
       "      <td>61</td>\n",
       "      <td>50.285714</td>\n",
       "      <td>51.0</td>\n",
       "      <td>7.296444</td>\n",
       "    </tr>\n",
       "    <tr>\n",
       "      <th>typical angina</th>\n",
       "      <td>40</td>\n",
       "      <td>64</td>\n",
       "      <td>51.666667</td>\n",
       "      <td>51.0</td>\n",
       "      <td>12.013881</td>\n",
       "    </tr>\n",
       "    <tr>\n",
       "      <th rowspan=\"8\" valign=\"top\">pesent</th>\n",
       "      <th rowspan=\"4\" valign=\"top\">no</th>\n",
       "      <th>asymptomatic</th>\n",
       "      <td>39</td>\n",
       "      <td>70</td>\n",
       "      <td>57.228571</td>\n",
       "      <td>60.0</td>\n",
       "      <td>8.506350</td>\n",
       "    </tr>\n",
       "    <tr>\n",
       "      <th>atypical angina</th>\n",
       "      <td>48</td>\n",
       "      <td>62</td>\n",
       "      <td>56.375000</td>\n",
       "      <td>57.0</td>\n",
       "      <td>4.033343</td>\n",
       "    </tr>\n",
       "    <tr>\n",
       "      <th>non-anginal pain</th>\n",
       "      <td>46</td>\n",
       "      <td>69</td>\n",
       "      <td>56.785714</td>\n",
       "      <td>58.0</td>\n",
       "      <td>7.495420</td>\n",
       "    </tr>\n",
       "    <tr>\n",
       "      <th>typical angina</th>\n",
       "      <td>45</td>\n",
       "      <td>65</td>\n",
       "      <td>58.000000</td>\n",
       "      <td>59.0</td>\n",
       "      <td>6.782330</td>\n",
       "    </tr>\n",
       "    <tr>\n",
       "      <th rowspan=\"4\" valign=\"top\">yes</th>\n",
       "      <th>asymptomatic</th>\n",
       "      <td>35</td>\n",
       "      <td>77</td>\n",
       "      <td>55.885714</td>\n",
       "      <td>57.0</td>\n",
       "      <td>7.895225</td>\n",
       "    </tr>\n",
       "    <tr>\n",
       "      <th>atypical angina</th>\n",
       "      <td>66</td>\n",
       "      <td>66</td>\n",
       "      <td>66.000000</td>\n",
       "      <td>66.0</td>\n",
       "      <td>NaN</td>\n",
       "    </tr>\n",
       "    <tr>\n",
       "      <th>non-anginal pain</th>\n",
       "      <td>56</td>\n",
       "      <td>70</td>\n",
       "      <td>64.500000</td>\n",
       "      <td>66.0</td>\n",
       "      <td>6.191392</td>\n",
       "    </tr>\n",
       "    <tr>\n",
       "      <th>typical angina</th>\n",
       "      <td>38</td>\n",
       "      <td>38</td>\n",
       "      <td>38.000000</td>\n",
       "      <td>38.0</td>\n",
       "      <td>NaN</td>\n",
       "    </tr>\n",
       "  </tbody>\n",
       "</table>\n",
       "</div>"
      ],
      "text/plain": [
       "                                     min max       mean median        std\n",
       "                                     age age        age    age        age\n",
       "Heart Disease exang cp                                                   \n",
       "absent        no    asymptomatic      35  71  54.137931   54.0   9.295637\n",
       "                    atypical angina   29  71  49.052632   48.5   9.188557\n",
       "                    non-anginal pain  37  76  52.672131   52.0   9.554617\n",
       "                    typical angina    34  69  57.230769   59.0  10.296875\n",
       "              yes   asymptomatic      45  64  53.900000   55.0   7.171704\n",
       "                    atypical angina   54  74  62.333333   59.0  10.408330\n",
       "                    non-anginal pain  41  61  50.285714   51.0   7.296444\n",
       "                    typical angina    40  64  51.666667   51.0  12.013881\n",
       "pesent        no    asymptomatic      39  70  57.228571   60.0   8.506350\n",
       "                    atypical angina   48  62  56.375000   57.0   4.033343\n",
       "                    non-anginal pain  46  69  56.785714   58.0   7.495420\n",
       "                    typical angina    45  65  58.000000   59.0   6.782330\n",
       "              yes   asymptomatic      35  77  55.885714   57.0   7.895225\n",
       "                    atypical angina   66  66  66.000000   66.0        NaN\n",
       "                    non-anginal pain  56  70  64.500000   66.0   6.191392\n",
       "                    typical angina    38  38  38.000000   38.0        NaN"
      ]
     },
     "execution_count": 62,
     "metadata": {},
     "output_type": "execute_result"
    }
   ],
   "source": [
    "pd.pivot_table(df, index=['Heart Disease', 'exang', 'cp'], values = 'age', aggfunc = [min, max, np.mean, np.median, np.std])"
   ]
  },
  {
   "cell_type": "code",
   "execution_count": 63,
   "id": "cfb8e539",
   "metadata": {},
   "outputs": [
    {
     "data": {
      "text/html": [
       "<div>\n",
       "<style scoped>\n",
       "    .dataframe tbody tr th:only-of-type {\n",
       "        vertical-align: middle;\n",
       "    }\n",
       "\n",
       "    .dataframe tbody tr th {\n",
       "        vertical-align: top;\n",
       "    }\n",
       "\n",
       "    .dataframe thead th {\n",
       "        text-align: right;\n",
       "    }\n",
       "</style>\n",
       "<table border=\"1\" class=\"dataframe\">\n",
       "  <thead>\n",
       "    <tr style=\"text-align: right;\">\n",
       "      <th></th>\n",
       "      <th></th>\n",
       "      <th></th>\n",
       "      <th>age</th>\n",
       "    </tr>\n",
       "    <tr>\n",
       "      <th>sex</th>\n",
       "      <th>Heart Disease</th>\n",
       "      <th>cp</th>\n",
       "      <th></th>\n",
       "    </tr>\n",
       "  </thead>\n",
       "  <tbody>\n",
       "    <tr>\n",
       "      <th rowspan=\"7\" valign=\"top\">female</th>\n",
       "      <th rowspan=\"4\" valign=\"top\">absent</th>\n",
       "      <th>typical angina</th>\n",
       "      <td>63.250000</td>\n",
       "    </tr>\n",
       "    <tr>\n",
       "      <th>atypical angina</th>\n",
       "      <td>51.250000</td>\n",
       "    </tr>\n",
       "    <tr>\n",
       "      <th>non-anginal pain</th>\n",
       "      <td>54.764706</td>\n",
       "    </tr>\n",
       "    <tr>\n",
       "      <th>asymptomatic</th>\n",
       "      <td>55.166667</td>\n",
       "    </tr>\n",
       "    <tr>\n",
       "      <th rowspan=\"3\" valign=\"top\">pesent</th>\n",
       "      <th>atypical angina</th>\n",
       "      <td>57.500000</td>\n",
       "    </tr>\n",
       "    <tr>\n",
       "      <th>non-anginal pain</th>\n",
       "      <td>62.000000</td>\n",
       "    </tr>\n",
       "    <tr>\n",
       "      <th>asymptomatic</th>\n",
       "      <td>59.090909</td>\n",
       "    </tr>\n",
       "    <tr>\n",
       "      <th rowspan=\"8\" valign=\"top\">male</th>\n",
       "      <th rowspan=\"4\" valign=\"top\">absent</th>\n",
       "      <th>typical angina</th>\n",
       "      <td>53.833333</td>\n",
       "    </tr>\n",
       "    <tr>\n",
       "      <th>atypical angina</th>\n",
       "      <td>49.240000</td>\n",
       "    </tr>\n",
       "    <tr>\n",
       "      <th>non-anginal pain</th>\n",
       "      <td>50.088235</td>\n",
       "    </tr>\n",
       "    <tr>\n",
       "      <th>asymptomatic</th>\n",
       "      <td>53.142857</td>\n",
       "    </tr>\n",
       "    <tr>\n",
       "      <th rowspan=\"4\" valign=\"top\">pesent</th>\n",
       "      <th>typical angina</th>\n",
       "      <td>55.142857</td>\n",
       "    </tr>\n",
       "    <tr>\n",
       "      <th>atypical angina</th>\n",
       "      <td>57.428571</td>\n",
       "    </tr>\n",
       "    <tr>\n",
       "      <th>non-anginal pain</th>\n",
       "      <td>58.294118</td>\n",
       "    </tr>\n",
       "    <tr>\n",
       "      <th>asymptomatic</th>\n",
       "      <td>55.602410</td>\n",
       "    </tr>\n",
       "  </tbody>\n",
       "</table>\n",
       "</div>"
      ],
      "text/plain": [
       "                                             age\n",
       "sex    Heart Disease cp                         \n",
       "female absent        typical angina    63.250000\n",
       "                     atypical angina   51.250000\n",
       "                     non-anginal pain  54.764706\n",
       "                     asymptomatic      55.166667\n",
       "       pesent        atypical angina   57.500000\n",
       "                     non-anginal pain  62.000000\n",
       "                     asymptomatic      59.090909\n",
       "male   absent        typical angina    53.833333\n",
       "                     atypical angina   49.240000\n",
       "                     non-anginal pain  50.088235\n",
       "                     asymptomatic      53.142857\n",
       "       pesent        typical angina    55.142857\n",
       "                     atypical angina   57.428571\n",
       "                     non-anginal pain  58.294118\n",
       "                     asymptomatic      55.602410"
      ]
     },
     "execution_count": 63,
     "metadata": {},
     "output_type": "execute_result"
    }
   ],
   "source": [
    "pd.pivot_table(df, index = ['sex','Heart Disease','cp'], values = 'age')"
   ]
  },
  {
   "cell_type": "code",
   "execution_count": null,
   "id": "30fc2141",
   "metadata": {},
   "outputs": [],
   "source": []
  },
  {
   "cell_type": "code",
   "execution_count": null,
   "id": "145c4ae1",
   "metadata": {},
   "outputs": [],
   "source": []
  }
 ],
 "metadata": {
  "kernelspec": {
   "display_name": "Python 3 (ipykernel)",
   "language": "python",
   "name": "python3"
  },
  "language_info": {
   "codemirror_mode": {
    "name": "ipython",
    "version": 3
   },
   "file_extension": ".py",
   "mimetype": "text/x-python",
   "name": "python",
   "nbconvert_exporter": "python",
   "pygments_lexer": "ipython3",
   "version": "3.9.7"
  },
  "vscode": {
   "interpreter": {
    "hash": "e0cc31e4a75583f51cc68a8bb5776943b2b755869bc199df015c56d4bc524a2e"
   }
  }
 },
 "nbformat": 4,
 "nbformat_minor": 5
}
