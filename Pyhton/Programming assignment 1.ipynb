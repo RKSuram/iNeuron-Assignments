{
 "cells": [
  {
   "cell_type": "code",
   "execution_count": 1,
   "id": "3b1a58a5",
   "metadata": {},
   "outputs": [
    {
     "name": "stdout",
     "output_type": "stream",
     "text": [
      "Hello Python\n"
     ]
    }
   ],
   "source": [
    "### 1. Write a Python program to print \"Hello Python\"?\n",
    "\n",
    "def hello():\n",
    "    return 'Hello Python'\n",
    "\n",
    "h = hello()\n",
    "print(h)"
   ]
  },
  {
   "cell_type": "code",
   "execution_count": 2,
   "id": "15f24211",
   "metadata": {},
   "outputs": [
    {
     "name": "stdout",
     "output_type": "stream",
     "text": [
      "enter a value for a :6\n",
      "enter a value for b :8\n",
      "('sum of 6 and 8 is : 14', 'division of 6 and 8 is : 0.75')\n"
     ]
    }
   ],
   "source": [
    "### 2. Write a Python program to do arithmetical operations addition and division.?\n",
    "\n",
    "def add_div():\n",
    "    addition = a + b\n",
    "    division = a/b\n",
    "    \n",
    "    return ('sum of {} and {} is : {}'.format(a,b,addition),\n",
    "            'division of {} and {} is : {}'.format(a,b,division))\n",
    "\n",
    "\n",
    "a = int(input('enter a value for a :'))\n",
    "b = int(input('enter a value for b :'))\n",
    "c = add_div()\n",
    "print(c)"
   ]
  },
  {
   "cell_type": "code",
   "execution_count": 3,
   "id": "05a00971",
   "metadata": {},
   "outputs": [
    {
     "name": "stdout",
     "output_type": "stream",
     "text": [
      "enter a value for base :5\n",
      "enter a value for height :9\n",
      "area of triangle with base: 5 and height: 9 is : 22.5\n"
     ]
    }
   ],
   "source": [
    "### 3. Write a Python program to find the area of a triangle?\n",
    "\n",
    "def area_of_triangle():\n",
    "    area = 1/2*base*height\n",
    "    return ('area of triangle with base: {} and height: {} is : {}'.format(base,height,area))\n",
    "\n",
    "base = int(input('enter a value for base '))\n",
    "height = int(input('enter a value for height '))\n",
    "area = area_of_triangle()\n",
    "print(area)"
   ]
  },
  {
   "cell_type": "code",
   "execution_count": 4,
   "id": "488cfae9",
   "metadata": {},
   "outputs": [
    {
     "name": "stdout",
     "output_type": "stream",
     "text": [
      "enter a value for n: 2\n",
      "enter a value for m: 7\n",
      "value of n after swap is: 7\n",
      "value of m after swap is: 2\n"
     ]
    }
   ],
   "source": [
    "### 4. Write a Python program to swap two variables?\n",
    "\n",
    "n = int(input('enter a value for n: '))\n",
    "m = int(input('enter a value for m: '))\n",
    "\n",
    "\n",
    "temp = n\n",
    "n = m\n",
    "m = temp\n",
    "\n",
    "print('value of n after swap is: {}'.format(n)+'\\n'+\n",
    "      'value of m after swap is: {}'.format(m))\n",
    "\n"
   ]
  },
  {
   "cell_type": "code",
   "execution_count": 9,
   "id": "3c2131c0",
   "metadata": {},
   "outputs": [
    {
     "name": "stdout",
     "output_type": "stream",
     "text": [
      "random generated number between (1,100) is:  79\n"
     ]
    }
   ],
   "source": [
    "### 5. Write a Python program to generate a random number?\n",
    "\n",
    "import random\n",
    "\n",
    "def rand():\n",
    "    r = random.randint(1,100)\n",
    "    return r\n",
    "\n",
    "r = print('random generated number between (1,100) is: ', rand())\n"
   ]
  },
  {
   "cell_type": "code",
   "execution_count": null,
   "id": "3a7ec2f1",
   "metadata": {},
   "outputs": [],
   "source": []
  }
 ],
 "metadata": {
  "kernelspec": {
   "display_name": "Python 3 (ipykernel)",
   "language": "python",
   "name": "python3"
  },
  "language_info": {
   "codemirror_mode": {
    "name": "ipython",
    "version": 3
   },
   "file_extension": ".py",
   "mimetype": "text/x-python",
   "name": "python",
   "nbconvert_exporter": "python",
   "pygments_lexer": "ipython3",
   "version": "3.9.7"
  }
 },
 "nbformat": 4,
 "nbformat_minor": 5
}
