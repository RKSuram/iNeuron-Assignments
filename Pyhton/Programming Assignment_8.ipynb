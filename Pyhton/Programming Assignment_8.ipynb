{
 "cells": [
  {
   "cell_type": "code",
   "execution_count": null,
   "id": "6d2996a6",
   "metadata": {},
   "outputs": [],
   "source": [
    "### 1. Write a Python Program to Add Two Matrices?\n",
    "\n",
    "m1 = [[1,2,3],\n",
    "      [4,5,6],\n",
    "      [7,8,9]]\n",
    "\n",
    "m2 = [[11,1,2],\n",
    "      [12,1,2],\n",
    "      [13,1,2]]\n",
    "\n",
    "m3 = [[0,0,0],\n",
    "      [0,0,0],\n",
    "      [0,0,0]]\n",
    "\n",
    "for i in range(len(m1)):\n",
    "    for j in range(len(m1)):\n",
    "        m3[i][j] = m1[i][j]+m2[i][j]\n",
    "\n",
    "for i in m3:\n",
    "    print(i)"
   ]
  },
  {
   "cell_type": "code",
   "execution_count": null,
   "id": "88c2fee2",
   "metadata": {},
   "outputs": [],
   "source": [
    "### 2. Write a Python Program to Multiply Two Matrices?\n",
    "\n",
    "m1 = [[1,2,3],\n",
    "      [4,5,6],\n",
    "      [7,8,9]]\n",
    "\n",
    "m2 = [[11,1,2],\n",
    "      [12,1,2],\n",
    "      [13,1,2]]\n",
    "\n",
    "m4 = [[0,0,0],\n",
    "      [0,0,0],\n",
    "      [0,0,0]]\n",
    "\n",
    "for i in range(len(m1)):\n",
    "    for j in range(len(m2)):\n",
    "        m4[i][j] = m1[i][j]*m2[i][j]\n",
    "        \n",
    "for j in m4:\n",
    "    print(j)"
   ]
  },
  {
   "cell_type": "code",
   "execution_count": null,
   "id": "de70e55d",
   "metadata": {},
   "outputs": [],
   "source": [
    "### 3. Write a Python Program to Transpose a Matrix?\n",
    "\n",
    "m1 = [[1,2,3],\n",
    "      [4,5,6],\n",
    "      [7,8,9]]\n",
    "\n",
    "m5 = [[0,0,0],[0,0,0],[0,0,0]]\n",
    "\n",
    "for i in range(len(m1)):\n",
    "    for j in range(len(m1)):\n",
    "        m5[j][i] = m1[i][j]\n",
    "        \n",
    "for k in m5:\n",
    "    print(k)"
   ]
  },
  {
   "cell_type": "code",
   "execution_count": null,
   "id": "60cd8db6",
   "metadata": {},
   "outputs": [],
   "source": [
    "### 4. Write a Python Program to Sort Words in Alphabetic Order?\n",
    "\n",
    "sentence = str(input('enter a sentence to sort its words in an alphabetical order :'))\n",
    "words = [word.lower() for word in sentence.split()]\n",
    "words.sort()\n",
    "\n",
    "for word in words:\n",
    "    print(word)\n"
   ]
  },
  {
   "cell_type": "code",
   "execution_count": null,
   "id": "c2a20eb5",
   "metadata": {},
   "outputs": [],
   "source": [
    "### 5. Write a Python Program to Remove Punctuation From a String?\n",
    "\n",
    "punctuations = \"'\"\"~`!@#$%^&*(){}[]|\\/?:;''.>,<'\"\n",
    "\n",
    "sent = str(input('enter a sentence with puctuations :'))\n",
    "c = \"\"\n",
    "for char in sent:\n",
    "    if char not in punctuations:\n",
    "        c = c+char\n",
    "print(c)"
   ]
  },
  {
   "cell_type": "code",
   "execution_count": null,
   "id": "edce1cff",
   "metadata": {},
   "outputs": [],
   "source": []
  }
 ],
 "metadata": {
  "kernelspec": {
   "display_name": "Python 3 (ipykernel)",
   "language": "python",
   "name": "python3"
  },
  "language_info": {
   "codemirror_mode": {
    "name": "ipython",
    "version": 3
   },
   "file_extension": ".py",
   "mimetype": "text/x-python",
   "name": "python",
   "nbconvert_exporter": "python",
   "pygments_lexer": "ipython3",
   "version": "3.9.7"
  }
 },
 "nbformat": 4,
 "nbformat_minor": 5
}
