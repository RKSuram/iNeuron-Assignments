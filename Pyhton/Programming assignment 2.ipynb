{
 "cells": [
  {
   "cell_type": "code",
   "execution_count": 2,
   "id": "b0e8a946",
   "metadata": {},
   "outputs": [
    {
     "name": "stdout",
     "output_type": "stream",
     "text": [
      "enter value for kilometer :30\n",
      "30.0 kilometers is equal to 18.64113 miles\n"
     ]
    }
   ],
   "source": [
    "### 1. Write a Python program to convert kilometers to miles?\n",
    "\n",
    "def km_to_mile():\n",
    "    converter_value = 0.621371\n",
    "    result = km * converter_value\n",
    "    return result\n",
    "    \n",
    "    \n",
    "km = float(input('enter value for kilometer :'))\n",
    "miles = km_to_mile()\n",
    "print('{} kilometers is equal to {} miles'.format(km, miles))"
   ]
  },
  {
   "cell_type": "code",
   "execution_count": 4,
   "id": "c9c96faa",
   "metadata": {},
   "outputs": [
    {
     "name": "stdout",
     "output_type": "stream",
     "text": [
      "enter celsius value: 23\n",
      "23.0 degree celsius is equal to 73.4F fahrenheit \n"
     ]
    }
   ],
   "source": [
    "### 2.Write a Python program to convert Celsius to Fahrenheit?\n",
    "\n",
    "def celsius_to_fahrenheit():\n",
    "    result = c*(9/5)+32\n",
    "    return result\n",
    "\n",
    "c = float(input('enter celsius value: '))\n",
    "fahr = celsius_to_fahrenheit()\n",
    "print('{} degree celsius is equal to {}F fahrenheit '.format(c,fahr))"
   ]
  },
  {
   "cell_type": "code",
   "execution_count": 5,
   "id": "b1b04f44",
   "metadata": {},
   "outputs": [
    {
     "name": "stdout",
     "output_type": "stream",
     "text": [
      "enter year:2023\n",
      "enter month:01\n",
      "    January 2023\n",
      "Mo Tu We Th Fr Sa Su\n",
      "                   1\n",
      " 2  3  4  5  6  7  8\n",
      " 9 10 11 12 13 14 15\n",
      "16 17 18 19 20 21 22\n",
      "23 24 25 26 27 28 29\n",
      "30 31\n",
      "\n"
     ]
    }
   ],
   "source": [
    "### 3. Write a Python program to display calendar?\n",
    "\n",
    "import calendar\n",
    "\n",
    "def calend():\n",
    "    yr = int(input('enter a year:'))\n",
    "    mt = int(input('enter a month:'))\n",
    "    result = (calendar.month(yr,mt))\n",
    "    return result\n",
    "\n",
    "cal = calend()\n",
    "print(cal)"
   ]
  },
  {
   "cell_type": "code",
   "execution_count": 7,
   "id": "fef47905",
   "metadata": {},
   "outputs": [
    {
     "name": "stdout",
     "output_type": "stream",
     "text": [
      "enter a value for a, must be greater than zero2\n",
      "enter a value for a3\n",
      "enter a value for a4\n",
      "(-0.75-1.1989578808281798j) (-0.75+1.1989578808281798j)\n"
     ]
    }
   ],
   "source": [
    "### 4. Write a Python program to solve quadratic equation?\n",
    "# quadratic equation is (ax**2 + bx + c = 0)\n",
    "\n",
    "import cmath\n",
    "\n",
    "a = int(input('enter a value for a, must be greater than zero :'))\n",
    "b = int(input('enter a value for a :'))\n",
    "c = int(input('enter a value for a :'))\n",
    "\n",
    "d = (b**2) - (4*a*c)\n",
    "\n",
    "r1 = (-b-cmath.sqrt(d))/(2*a)\n",
    "r2 = (-b+cmath.sqrt(d))/(2*a)\n",
    "\n",
    "print(r1, r2)"
   ]
  },
  {
   "cell_type": "code",
   "execution_count": 8,
   "id": "5c93a42f",
   "metadata": {},
   "outputs": [
    {
     "name": "stdout",
     "output_type": "stream",
     "text": [
      "enter a value for m: 2\n",
      "enter a value for n: 9\n",
      "swapped values of m and n are 9 and 2\n"
     ]
    }
   ],
   "source": [
    "### 5. Write a Python program to swap two variables without temp variable?\n",
    "  \n",
    "m = int(input('enter a value for m: '))\n",
    "n = int(input('enter a value for n: '))\n",
    "\n",
    "m,n = n,m\n",
    "\n",
    "print('swapped values of m and n are {} and {}'.format(m,n))"
   ]
  },
  {
   "cell_type": "code",
   "execution_count": null,
   "id": "41409b2a",
   "metadata": {},
   "outputs": [],
   "source": []
  }
 ],
 "metadata": {
  "kernelspec": {
   "display_name": "Python 3 (ipykernel)",
   "language": "python",
   "name": "python3"
  },
  "language_info": {
   "codemirror_mode": {
    "name": "ipython",
    "version": 3
   },
   "file_extension": ".py",
   "mimetype": "text/x-python",
   "name": "python",
   "nbconvert_exporter": "python",
   "pygments_lexer": "ipython3",
   "version": "3.9.7"
  }
 },
 "nbformat": 4,
 "nbformat_minor": 5
}
