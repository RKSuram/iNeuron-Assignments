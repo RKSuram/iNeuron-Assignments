{
 "cells": [
  {
   "cell_type": "code",
   "execution_count": null,
   "id": "912653ef",
   "metadata": {},
   "outputs": [],
   "source": [
    "### 1. Write a Python Program to find sum of array?\n",
    "\n",
    "def sum_array():\n",
    "    s = 0\n",
    "    for i in arr:\n",
    "        s += i               \n",
    "            \n",
    "    return 'sum of an array is :', s\n",
    "\n",
    "arr = []\n",
    "n = int(input('enter number of elements you want in an array :'))\n",
    "for i in range(1,n+1):\n",
    "    l = int(input())\n",
    "    arr.append(l)\n",
    "print('You entered an array :', arr)\n",
    "\n",
    "# function calling\n",
    "sum_array()"
   ]
  },
  {
   "cell_type": "code",
   "execution_count": null,
   "id": "0fde0a71",
   "metadata": {},
   "outputs": [],
   "source": [
    "### 2. Write a Python Program to find largest element in an array?\n",
    "\n",
    "def largest_of_array():\n",
    "    max = arr[0]\n",
    "    for i in range(0, len(arr)):\n",
    "        if arr[i]>max:\n",
    "            max = arr[i]\n",
    "    return 'largest element in an array is :', max\n",
    "\n",
    "arr = []\n",
    "n = int(input('enter number of elements you want in an arrays :'))\n",
    "for i in range(0,n):\n",
    "    l = int(input())\n",
    "    arr.append(l)\n",
    "print(arr)\n",
    "\n",
    "# function calling\n",
    "largest_of_array()"
   ]
  },
  {
   "cell_type": "code",
   "execution_count": null,
   "id": "a13035ce",
   "metadata": {},
   "outputs": [],
   "source": [
    "### 3. Write a Python Program for array rotation?\n",
    "    \n",
    "    \n",
    "arr = []      \n",
    "n = int(input('enter number of elements you want in an array :'))\n",
    "for i in range(0, n):\n",
    "    l = int(input())\n",
    "    arr.append(l)\n",
    "    \n",
    "print(\"Original array: \", arr)\n",
    " \n",
    "#Rotate the given array by n times toward right\n",
    "t = int(input('enter number of times you want to rotate array :'))\n",
    "for i in range(t):       \n",
    "    first = arr[0]\n",
    "    for j in range(0, len(arr)-1):     \n",
    "        arr[j] = arr[j+1]      \n",
    "    arr[len(arr)-1] = first       \n",
    "     \n",
    "#Displays resulting array after rotation    \n",
    "print(\"Array after right rotation: \", arr)  \n",
    "   "
   ]
  },
  {
   "cell_type": "code",
   "execution_count": null,
   "id": "59c87a0b",
   "metadata": {},
   "outputs": [],
   "source": [
    "### 4. Write a Python Program to Split the array and add the first part to the end?\n",
    "\n"
   ]
  },
  {
   "cell_type": "code",
   "execution_count": null,
   "id": "91071a2f",
   "metadata": {},
   "outputs": [],
   "source": [
    "### 5. Write a Python Program to check if given array is Monotonic?\n",
    "\n",
    "def isMonotonic(A):\n",
    "    return (all(A[i] <= A[i+1] for i in range(len(A)-1)) or all(A[i] >= A[i+1] for i in range(len(A)-1)))\n",
    "\n",
    "\n",
    "A = []\n",
    "n = int(input('enter the number of elements you want in an array :'))\n",
    "for i in range(n):\n",
    "    l = int(input())\n",
    "    A.append(l)\n",
    "\n",
    "# calling function    \n",
    "isMonotonic(A)\n"
   ]
  },
  {
   "cell_type": "code",
   "execution_count": null,
   "id": "72376242",
   "metadata": {},
   "outputs": [],
   "source": []
  }
 ],
 "metadata": {
  "kernelspec": {
   "display_name": "Python 3 (ipykernel)",
   "language": "python",
   "name": "python3"
  },
  "language_info": {
   "codemirror_mode": {
    "name": "ipython",
    "version": 3
   },
   "file_extension": ".py",
   "mimetype": "text/x-python",
   "name": "python",
   "nbconvert_exporter": "python",
   "pygments_lexer": "ipython3",
   "version": "3.9.7"
  }
 },
 "nbformat": 4,
 "nbformat_minor": 5
}
