{
 "cells": [
  {
   "cell_type": "code",
   "execution_count": null,
   "id": "dc4c9424",
   "metadata": {},
   "outputs": [],
   "source": [
    "### 1. Write a Python Program to Display Fibonacci Sequence Using Recursion?\n",
    "\n",
    "\"\"\"\n",
    "A Fibonacci sequence is the integer sequence of 0, 1, 1, 2, 3, 5, 8....\n",
    "\n",
    "The first two terms are 0 and 1. All other terms are obtained by adding the preceding two terms.This means to say the nth \n",
    "term is the sum of (n-1)th and (n-2)th term.\n",
    "\n",
    "In Python, we know that a function can call other functions. It is even possible for the function to call itself. \n",
    "These types of construct are termed as recursive functions.\n",
    "\"\"\"\n",
    "\n",
    "\n",
    "def recur_fibo(n):\n",
    "    if n <= 1:\n",
    "        return n\n",
    "    else:\n",
    "        return(recur_fibo(n-1) + recur_fibo(n-2))\n",
    "\n",
    "\n",
    "nterms = int(input(\"enter the number of terms you want :\"))\n",
    "if nterms <= 0:\n",
    "    print(\"Plese enter a positive integer\")\n",
    "else:\n",
    "    print(\"Fibonacci sequence:\")\n",
    "    for i in range(nterms):\n",
    "        print(recur_fibo(i))\n",
    "        "
   ]
  },
  {
   "cell_type": "code",
   "execution_count": null,
   "id": "b8482623",
   "metadata": {},
   "outputs": [],
   "source": [
    "### 2. Write a Python Program to Find Factorial of Number Using Recursion?\n",
    "\n",
    "def recur_facto(n):\n",
    "    if n==1:\n",
    "        return n\n",
    "    else:\n",
    "        return n*recur_facto(n-1)\n",
    "    \n",
    "    \n",
    "n = int(input('enter a number :'))\n",
    "if n<0:\n",
    "    print('sorry, factorial does not exist for negative number')\n",
    "elif n==0:\n",
    "        print('factorial for 0 is 1')\n",
    "else:\n",
    "    print('factorial for', n, 'is :',recur_facto(n))\n"
   ]
  },
  {
   "cell_type": "code",
   "execution_count": null,
   "id": "59ec8371",
   "metadata": {},
   "outputs": [],
   "source": [
    "### 3. Write a Python Program to calculate your Body Mass Index?\n",
    "\"\"\"\n",
    "Body Mass Index (BMI) is a measure of body fat on the basis of height and weight, respectively.\n",
    "\"\"\"\n",
    "\n",
    "height = float(input(\"Enter the height in cm: \"))  \n",
    "weight = float(input(\"Enter the weight in kg: \")) \n",
    "\n",
    "# defining a function for BMI  \n",
    "BMI = weight / (height/100)**2  \n",
    "\n",
    "# printing the BMI  \n",
    "print(\"Your Body Mass Index is\", BMI)  \n",
    "if BMI <= 18.5:  \n",
    "    print(\"Oops! You are underweight.\")  \n",
    "elif BMI <= 24.9:  \n",
    "    print(\"Awesome! You are healthy.\")  \n",
    "elif BMI <= 29.9:  \n",
    "    print(\"Hey! You are over weight.\")  \n",
    "else:  \n",
    "    print(\"Ohhh! You are obesse.\")  "
   ]
  },
  {
   "cell_type": "code",
   "execution_count": null,
   "id": "4742d79d",
   "metadata": {},
   "outputs": [],
   "source": [
    "### 4. Write a Python Program to calculate the natural logarithm of any number?\n",
    "\n",
    "import math\n",
    "\n",
    "n = int(input('enter a number to find its logarithm :'))\n",
    "math.log(n)"
   ]
  },
  {
   "cell_type": "code",
   "execution_count": null,
   "id": "a70ee552",
   "metadata": {},
   "outputs": [],
   "source": [
    "### 5. Write a Python Program for cube sum of first n natural numbers?\n",
    "\n",
    "def cube_sum_num(n):\n",
    "    sumN = 0\n",
    "    if n<0:\n",
    "        return 'please enter a positive number'\n",
    "    else:\n",
    "        for i in range(1,n+1):\n",
    "            sumN += (i*i*i)        \n",
    "        return 'cube sum of n natural numbers is :', sumN\n",
    "\n",
    "n = int(input('enter a number :'))\n",
    "cube_sum_num(n)"
   ]
  },
  {
   "cell_type": "code",
   "execution_count": null,
   "id": "4ba1c36a",
   "metadata": {},
   "outputs": [],
   "source": []
  }
 ],
 "metadata": {
  "kernelspec": {
   "display_name": "Python 3 (ipykernel)",
   "language": "python",
   "name": "python3"
  },
  "language_info": {
   "codemirror_mode": {
    "name": "ipython",
    "version": 3
   },
   "file_extension": ".py",
   "mimetype": "text/x-python",
   "name": "python",
   "nbconvert_exporter": "python",
   "pygments_lexer": "ipython3",
   "version": "3.9.7"
  }
 },
 "nbformat": 4,
 "nbformat_minor": 5
}
