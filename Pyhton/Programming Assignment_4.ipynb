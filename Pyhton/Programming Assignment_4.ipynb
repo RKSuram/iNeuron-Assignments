{
 "cells": [
  {
   "cell_type": "code",
   "execution_count": null,
   "id": "f470d198",
   "metadata": {},
   "outputs": [],
   "source": [
    "### 1. Write a Python Program to Find the Factorial of a Number?\n",
    "\n",
    "def factorial(n):\n",
    "    fact = 1\n",
    "    if n<0:\n",
    "        print('sorry, factorial for negative number does not exist')\n",
    "    elif n == 0:\n",
    "        print('Factorial of 0 is 1')\n",
    "    else:\n",
    "        for i in range(1,n+1):\n",
    "            fact = fact*i\n",
    "        print('Factorial of ', n, 'is', fact)\n",
    "    \n",
    "res = int(input('enter a number to find its factorial :'))\n",
    "factorial(res)\n",
    "    "
   ]
  },
  {
   "cell_type": "code",
   "execution_count": null,
   "id": "7ae81b6d",
   "metadata": {},
   "outputs": [],
   "source": [
    "### 2. Write a Python Program to Display the multiplication Table?\n",
    "\n",
    "def table(n):\n",
    "    for i in range(1, 11):\n",
    "        print(n, 'x', i, '=', n*i)\n",
    "        \n",
    "t = int(input('enter a number to print its multiplication table :'))\n",
    "table(t)"
   ]
  },
  {
   "cell_type": "code",
   "execution_count": null,
   "id": "6645087b",
   "metadata": {},
   "outputs": [],
   "source": [
    "### 3. Write a Python Program to Print the Fibonacci sequence?\n",
    "\n",
    "def fibonacci(n):\n",
    "    n1,n2 = 0,1\n",
    "    count = 0\n",
    "    \n",
    "    if n <= 0:\n",
    "        print('enter a number greater than zero')\n",
    "    elif n == 1:\n",
    "        print('Fibonacci sequence for', n, 'is')\n",
    "        print(n1)\n",
    "    else:\n",
    "        print('Fibonacci sequence is :')\n",
    "        while count < n:\n",
    "            print(n1)\n",
    "            m = n1 + n2\n",
    "            n1 = n2\n",
    "            n2 = m\n",
    "            count += 1\n",
    "            \n",
    "f = int(input('enter a number to find nterms of fibonacci sequence :'))\n",
    "fibonacci(f)"
   ]
  },
  {
   "cell_type": "code",
   "execution_count": null,
   "id": "344ed6c9",
   "metadata": {},
   "outputs": [],
   "source": [
    "### 4. Write a Python Program to Check Armstrong Number? (153 = 1*1*1 + 5*5*5 + 3*3*3)\n",
    "\n",
    "def armstrong(n):\n",
    "    order = len(str(n))\n",
    "    s = 0\n",
    "    temp = n\n",
    "    while temp > 0:\n",
    "        num = temp % 10\n",
    "        s += num ** order\n",
    "        temp //= 10\n",
    "        \n",
    "    if n == s:\n",
    "        print(n, 'is an armstrong number')\n",
    "    else:\n",
    "        print(n, 'is not an armstrong number')\n",
    "\n",
    "a = int(input('enter a number :'))\n",
    "armstrong(a)"
   ]
  },
  {
   "cell_type": "code",
   "execution_count": null,
   "id": "b83a5161",
   "metadata": {},
   "outputs": [],
   "source": [
    "### 5. Write a Python Program to Find Armstrong Number in an Interval?\n",
    "\n",
    "def armstrong_range():\n",
    "    low = int(input('enter lower limit :'))\n",
    "    high = int(input('enter higher limit :'))\n",
    "    print('armstrong numbers between', low, 'and', high, 'are :')\n",
    "    \n",
    "    for n in range(low, high+1):\n",
    "        order = len(str(n))\n",
    "        s = 0\n",
    "        temp = n\n",
    "        while temp > 0:\n",
    "            num = temp % 10\n",
    "            s += num ** order\n",
    "            temp //= 10\n",
    "            \n",
    "        if n == s:\n",
    "            print(n)\n",
    "\n",
    "\n",
    "armstrong_range()\n"
   ]
  },
  {
   "cell_type": "code",
   "execution_count": null,
   "id": "f3610c61",
   "metadata": {},
   "outputs": [],
   "source": [
    "### 6. Write a Python Program to Find the Sum of Natural Numbers?\n",
    "\n",
    "num = int(input('enter a number to find sum of its natural numbers :'))\n",
    "\n",
    "if num < 0:\n",
    "    print('enter a positive number')\n",
    "else:\n",
    "    print('The sum of natural numbers for', num, 'is')\n",
    "    sum = 0\n",
    "    while num>0:\n",
    "        sum += num\n",
    "        num -= 1\n",
    "    print(sum)"
   ]
  },
  {
   "cell_type": "code",
   "execution_count": null,
   "id": "24758572",
   "metadata": {},
   "outputs": [],
   "source": []
  }
 ],
 "metadata": {
  "kernelspec": {
   "display_name": "Python 3 (ipykernel)",
   "language": "python",
   "name": "python3"
  },
  "language_info": {
   "codemirror_mode": {
    "name": "ipython",
    "version": 3
   },
   "file_extension": ".py",
   "mimetype": "text/x-python",
   "name": "python",
   "nbconvert_exporter": "python",
   "pygments_lexer": "ipython3",
   "version": "3.9.7"
  }
 },
 "nbformat": 4,
 "nbformat_minor": 5
}
